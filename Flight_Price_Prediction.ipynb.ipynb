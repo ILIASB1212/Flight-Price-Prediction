{
 "cells": [
  {
   "cell_type": "code",
   "execution_count": 1,
   "id": "099766e6-b271-4802-8c1c-6c1a9851a254",
   "metadata": {},
   "outputs": [],
   "source": [
    "import pandas as pd\n",
    "import numpy as np\n",
    "import matplotlib.pyplot as plt\n",
    "import seaborn as sns"
   ]
  },
  {
   "cell_type": "code",
   "execution_count": 2,
   "id": "0f2a7b21-29f4-49e5-bcd0-3ad9f913e51d",
   "metadata": {},
   "outputs": [],
   "source": [
    "data=pd.read_excel(\"Data_Train.xlsx\")"
   ]
  },
  {
   "cell_type": "code",
   "execution_count": 3,
   "id": "07d1a0e6-72fc-482f-b0da-f8ce95aed5ac",
   "metadata": {
    "scrolled": true
   },
   "outputs": [
    {
     "data": {
      "text/html": [
       "<div>\n",
       "<style scoped>\n",
       "    .dataframe tbody tr th:only-of-type {\n",
       "        vertical-align: middle;\n",
       "    }\n",
       "\n",
       "    .dataframe tbody tr th {\n",
       "        vertical-align: top;\n",
       "    }\n",
       "\n",
       "    .dataframe thead th {\n",
       "        text-align: right;\n",
       "    }\n",
       "</style>\n",
       "<table border=\"1\" class=\"dataframe\">\n",
       "  <thead>\n",
       "    <tr style=\"text-align: right;\">\n",
       "      <th></th>\n",
       "      <th>Airline</th>\n",
       "      <th>Date_of_Journey</th>\n",
       "      <th>Source</th>\n",
       "      <th>Destination</th>\n",
       "      <th>Route</th>\n",
       "      <th>Dep_Time</th>\n",
       "      <th>Arrival_Time</th>\n",
       "      <th>Duration</th>\n",
       "      <th>Total_Stops</th>\n",
       "      <th>Additional_Info</th>\n",
       "      <th>Price</th>\n",
       "    </tr>\n",
       "  </thead>\n",
       "  <tbody>\n",
       "    <tr>\n",
       "      <th>0</th>\n",
       "      <td>IndiGo</td>\n",
       "      <td>24/03/2019</td>\n",
       "      <td>Banglore</td>\n",
       "      <td>New Delhi</td>\n",
       "      <td>BLR → DEL</td>\n",
       "      <td>22:20</td>\n",
       "      <td>01:10 22 Mar</td>\n",
       "      <td>2h 50m</td>\n",
       "      <td>non-stop</td>\n",
       "      <td>No info</td>\n",
       "      <td>3897</td>\n",
       "    </tr>\n",
       "    <tr>\n",
       "      <th>1</th>\n",
       "      <td>Air India</td>\n",
       "      <td>1/05/2019</td>\n",
       "      <td>Kolkata</td>\n",
       "      <td>Banglore</td>\n",
       "      <td>CCU → IXR → BBI → BLR</td>\n",
       "      <td>05:50</td>\n",
       "      <td>13:15</td>\n",
       "      <td>7h 25m</td>\n",
       "      <td>2 stops</td>\n",
       "      <td>No info</td>\n",
       "      <td>7662</td>\n",
       "    </tr>\n",
       "    <tr>\n",
       "      <th>2</th>\n",
       "      <td>Jet Airways</td>\n",
       "      <td>9/06/2019</td>\n",
       "      <td>Delhi</td>\n",
       "      <td>Cochin</td>\n",
       "      <td>DEL → LKO → BOM → COK</td>\n",
       "      <td>09:25</td>\n",
       "      <td>04:25 10 Jun</td>\n",
       "      <td>19h</td>\n",
       "      <td>2 stops</td>\n",
       "      <td>No info</td>\n",
       "      <td>13882</td>\n",
       "    </tr>\n",
       "    <tr>\n",
       "      <th>3</th>\n",
       "      <td>IndiGo</td>\n",
       "      <td>12/05/2019</td>\n",
       "      <td>Kolkata</td>\n",
       "      <td>Banglore</td>\n",
       "      <td>CCU → NAG → BLR</td>\n",
       "      <td>18:05</td>\n",
       "      <td>23:30</td>\n",
       "      <td>5h 25m</td>\n",
       "      <td>1 stop</td>\n",
       "      <td>No info</td>\n",
       "      <td>6218</td>\n",
       "    </tr>\n",
       "    <tr>\n",
       "      <th>4</th>\n",
       "      <td>IndiGo</td>\n",
       "      <td>01/03/2019</td>\n",
       "      <td>Banglore</td>\n",
       "      <td>New Delhi</td>\n",
       "      <td>BLR → NAG → DEL</td>\n",
       "      <td>16:50</td>\n",
       "      <td>21:35</td>\n",
       "      <td>4h 45m</td>\n",
       "      <td>1 stop</td>\n",
       "      <td>No info</td>\n",
       "      <td>13302</td>\n",
       "    </tr>\n",
       "  </tbody>\n",
       "</table>\n",
       "</div>"
      ],
      "text/plain": [
       "       Airline Date_of_Journey    Source Destination                  Route  \\\n",
       "0       IndiGo      24/03/2019  Banglore   New Delhi              BLR → DEL   \n",
       "1    Air India       1/05/2019   Kolkata    Banglore  CCU → IXR → BBI → BLR   \n",
       "2  Jet Airways       9/06/2019     Delhi      Cochin  DEL → LKO → BOM → COK   \n",
       "3       IndiGo      12/05/2019   Kolkata    Banglore        CCU → NAG → BLR   \n",
       "4       IndiGo      01/03/2019  Banglore   New Delhi        BLR → NAG → DEL   \n",
       "\n",
       "  Dep_Time  Arrival_Time Duration Total_Stops Additional_Info  Price  \n",
       "0    22:20  01:10 22 Mar   2h 50m    non-stop         No info   3897  \n",
       "1    05:50         13:15   7h 25m     2 stops         No info   7662  \n",
       "2    09:25  04:25 10 Jun      19h     2 stops         No info  13882  \n",
       "3    18:05         23:30   5h 25m      1 stop         No info   6218  \n",
       "4    16:50         21:35   4h 45m      1 stop         No info  13302  "
      ]
     },
     "execution_count": 3,
     "metadata": {},
     "output_type": "execute_result"
    }
   ],
   "source": [
    "data.head()"
   ]
  },
  {
   "cell_type": "markdown",
   "id": "9668d676-1603-4c1e-8738-1fe2e20207ea",
   "metadata": {},
   "source": [
    "## EXPLIANATORY DATA ANALIST"
   ]
  },
  {
   "cell_type": "code",
   "execution_count": 4,
   "id": "965217e5-7902-4991-beff-2c10cdf8cd3d",
   "metadata": {},
   "outputs": [
    {
     "data": {
      "text/plain": [
       "array(['No info', 'In-flight meal not included',\n",
       "       'No check-in baggage included', '1 Short layover', 'No Info',\n",
       "       '1 Long layover', 'Change airports', 'Business class',\n",
       "       'Red-eye flight', '2 Long layover'], dtype=object)"
      ]
     },
     "execution_count": 4,
     "metadata": {},
     "output_type": "execute_result"
    }
   ],
   "source": [
    "data[\"Additional_Info\"].unique()"
   ]
  },
  {
   "cell_type": "code",
   "execution_count": 5,
   "id": "b35c8310-a626-46ce-83de-55c6f698971d",
   "metadata": {},
   "outputs": [
    {
     "data": {
      "text/plain": [
       "Additional_Info\n",
       "No info                         78.114762\n",
       "In-flight meal not included     18.552841\n",
       "No check-in baggage included     2.995413\n",
       "1 Long layover                   0.177853\n",
       "Change airports                  0.065525\n",
       "Business class                   0.037443\n",
       "No Info                          0.028082\n",
       "1 Short layover                  0.009361\n",
       "Red-eye flight                   0.009361\n",
       "2 Long layover                   0.009361\n",
       "Name: count, dtype: float64"
      ]
     },
     "execution_count": 5,
     "metadata": {},
     "output_type": "execute_result"
    }
   ],
   "source": [
    "data[\"Additional_Info\"].value_counts()/len(data[\"Additional_Info\"])*100"
   ]
  },
  {
   "cell_type": "code",
   "execution_count": 6,
   "id": "a09aaf28-46d4-45cf-9d89-9a4491d8375d",
   "metadata": {},
   "outputs": [
    {
     "name": "stderr",
     "output_type": "stream",
     "text": [
      "C:\\Users\\salma\\anaconda3\\Lib\\site-packages\\seaborn\\_oldcore.py:1119: FutureWarning: use_inf_as_na option is deprecated and will be removed in a future version. Convert inf values to NaN before operating instead.\n",
      "  with pd.option_context('mode.use_inf_as_na', True):\n"
     ]
    },
    {
     "data": {
      "image/png": "[encoded data removed]",
      "text/plain": [
       "<Figure size 500x500 with 1 Axes>"
      ]
     },
     "metadata": {},
     "output_type": "display_data"
    }
   ],
   "source": [
    "sns.displot(data[\"Additional_Info\"])\n",
    "plt.xticks(rotation=90)\n",
    "plt.show()"
   ]
  },
  {
   "cell_type": "markdown",
   "id": "2372af4c-6eb3-412e-9fb0-988125065127",
   "metadata": {},
   "source": [
    "### plot of price destribution"
   ]
  },
  {
   "cell_type": "code",
   "execution_count": 7,
   "id": "8c9ac66a-b9b5-44bb-ac95-e3a29fb63370",
   "metadata": {
    "scrolled": true
   },
   "outputs": [
    {
     "name": "stderr",
     "output_type": "stream",
     "text": [
      "C:\\Users\\salma\\anaconda3\\Lib\\site-packages\\seaborn\\_oldcore.py:1119: FutureWarning: use_inf_as_na option is deprecated and will be removed in a future version. Convert inf values to NaN before operating instead.\n",
      "  with pd.option_context('mode.use_inf_as_na', True):\n"
     ]
    },
    {
     "data": {
      "image/png": "[encoded data removed]",
      "text/plain": [
       "<Figure size 500x500 with 1 Axes>"
      ]
     },
     "metadata": {},
     "output_type": "display_data"
    }
   ],
   "source": [
    "sns.displot(data[\"Price\"])\n",
    "plt.xticks(rotation=90)\n",
    "plt.show()"
   ]
  },
  {
   "cell_type": "code",
   "execution_count": 8,
   "id": "6b0f7073-33a0-4f28-9031-b4cf499a72df",
   "metadata": {},
   "outputs": [
    {
     "data": {
      "text/plain": [
       "Airline\n",
       "Jet Airways                          36.029205\n",
       "IndiGo                               19.217448\n",
       "Air India                            16.399888\n",
       "Multiple carriers                    11.195357\n",
       "SpiceJet                              7.657025\n",
       "Vistara                               4.483759\n",
       "Air Asia                              2.986053\n",
       "GoAir                                 1.815969\n",
       "Multiple carriers Premium economy     0.121689\n",
       "Jet Airways Business                  0.056164\n",
       "Vistara Premium economy               0.028082\n",
       "Trujet                                0.009361\n",
       "Name: count, dtype: float64"
      ]
     },
     "execution_count": 8,
     "metadata": {},
     "output_type": "execute_result"
    }
   ],
   "source": [
    "data[\"Airline\"].value_counts()/len(data[\"Airline\"])*100"
   ]
  },
  {
   "cell_type": "code",
   "execution_count": 9,
   "id": "d62e7f66-cd2f-4cc4-b907-fef2d5249259",
   "metadata": {},
   "outputs": [
    {
     "data": {
      "image/png": "[encoded data removed]",
      "text/plain": [
       "<Figure size 640x480 with 1 Axes>"
      ]
     },
     "metadata": {},
     "output_type": "display_data"
    }
   ],
   "source": [
    "label=[\n",
    "\"Jet Airways\",                          \n",
    "\"IndiGo\",                       \n",
    "\"Air India\",                            \n",
    "\"Multiple carriers\",                    \n",
    "\"SpiceJet\",                             \n",
    "\"Vistara\",                               \n",
    "\"Air Asia\",                              \n",
    "\"GoAir\",                                 \n",
    "\"Multiple carriers Premium economy\",     \n",
    "\"Jet Airways Business\",                  \n",
    "\"Vistara Premium economy\",              \n",
    "\"Trujet\",]\n",
    "plt.pie(data[\"Airline\"].value_counts()/len(data[\"Airline\"])*100,labels=label)\n",
    "plt.show()"
   ]
  },
  {
   "cell_type": "code",
   "execution_count": 10,
   "id": "551c6b22-1054-462e-a4c6-212b90a59fff",
   "metadata": {
    "scrolled": true
   },
   "outputs": [
    {
     "name": "stdout",
     "output_type": "stream",
     "text": [
      "<class 'pandas.core.series.Series'>\n",
      "RangeIndex: 10683 entries, 0 to 10682\n",
      "Series name: Duration\n",
      "Non-Null Count  Dtype \n",
      "--------------  ----- \n",
      "10683 non-null  object\n",
      "dtypes: object(1)\n",
      "memory usage: 83.6+ KB\n"
     ]
    }
   ],
   "source": [
    "data[\"Duration\"].info()"
   ]
  },
  {
   "cell_type": "code",
   "execution_count": 11,
   "id": "c2b3b274-85fb-47f9-93e0-0ab633551c20",
   "metadata": {},
   "outputs": [
    {
     "data": {
      "text/plain": [
       "(9087.064120565385, 4611.35916681709)"
      ]
     },
     "execution_count": 11,
     "metadata": {},
     "output_type": "execute_result"
    }
   ],
   "source": [
    "price_mean=data[\"Price\"].mean()\n",
    "price_std=data[\"Price\"].std()\n",
    "price_mean,price_std"
   ]
  },
  {
   "cell_type": "code",
   "execution_count": 12,
   "id": "c2440bb8-498f-4093-92e8-9cd8f071c102",
   "metadata": {},
   "outputs": [],
   "source": [
    "def convert_to_minutes(time_str):\n",
    "    try:\n",
    "        if 'h' in time_str and 'm' in time_str:\n",
    "            hours, minutes = time_str.split('h')\n",
    "            minutes = minutes.replace('m', '')  \n",
    "            total_minutes = int(hours) * 60 + int(minutes)\n",
    "        elif 'm' in time_str:\n",
    "            minutes = time_str.replace('m', '') \n",
    "            total_minutes = int(minutes)\n",
    "        elif 'h' in time_str:\n",
    "            hours = time_str.replace('h', '') \n",
    "            total_minutes = int(hours)*60\n",
    "        else:\n",
    "            total_minutes = 0 \n",
    "\n",
    "        return total_minutes\n",
    "    except Exception as e:\n",
    "        print(f\"Error processing {time_str}: {e}\")\n",
    "        return None  "
   ]
  },
  {
   "cell_type": "code",
   "execution_count": 13,
   "id": "e3227feb-4463-43f8-8670-ab859213eb89",
   "metadata": {},
   "outputs": [],
   "source": [
    "data['traveling_in_minutes'] = data[\"Duration\"].apply(convert_to_minutes)"
   ]
  },
  {
   "cell_type": "code",
   "execution_count": 14,
   "id": "3cffe6e8-d48f-4ae5-a1a1-818e02d8f8d9",
   "metadata": {},
   "outputs": [
    {
     "data": {
      "text/plain": [
       "array([ 170,  445, 1140,  325,  285,  145,  930, 1265, 1530,  470,  795,\n",
       "        155,  135,  730, 1595,  270, 1355, 1380, 1235,  310,  920,  175,\n",
       "        800,  910,  345,  355,  805, 1320,  330,  625,  315,  150,  375,\n",
       "        715,  665,  510, 1325,  165,  720,  965, 1195,  195, 1520,  180,\n",
       "        975,  905,  390, 1505,  745, 1640,  615,  630,   90,   85, 1590,\n",
       "        440,  810,  300, 1145,  890,  160, 1330,  575,  600, 1280, 1125,\n",
       "        740, 1080,  555, 1050,  995,  735,  450, 1440,  535,  430,  870,\n",
       "       1820,  900,  765,  610,  925,  845, 1215, 1390, 1090,  960,  140,\n",
       "        480, 1015,  190,  840, 1430, 1300, 1275,  650,  495,  515,  710,\n",
       "       1655,  505, 1255,  290,  490, 1465, 1415, 1545, 1570, 1730, 1515,\n",
       "        560,  550,  185,  690,  570, 1055,  305, 1550, 1200,  780, 1105,\n",
       "       1450,  295, 1535,  380, 1120, 1165, 1760,  545,  645,  700, 1375,\n",
       "       2245, 1540,  835,  520, 1410,  755, 1455,   80,  660,  675,  875,\n",
       "        775,  540,  460,  705, 1495, 1025, 1795, 1335,  880,  435, 1210,\n",
       "       1245, 1620, 1470, 1225,  335,  885,  340,  245,  955,  465, 1700,\n",
       "        260,  220,  530, 1425, 1485, 1295,  485,  385,  950, 1585, 1490,\n",
       "       1560, 1385,  475, 1580, 1395,  320,  240,  585,  500, 1045,  425,\n",
       "       2045,  365,  350,  420,  265,  825, 1155, 1350,  985,  830, 1625,\n",
       "       1690,  280,  940,  275, 1110, 2295,  395,  750,  680,  455, 1775,\n",
       "       1615, 1420,  770,  590, 1315,  655, 1270, 1240, 1800,  790,  525,\n",
       "        370, 1065, 1305,  235, 1040, 1830, 1285,  760, 1475, 1150, 1360,\n",
       "        895, 1260,  405, 1720,  580, 1000,  980, 1005,   75,  415,  685,\n",
       "        860,  725, 1445, 1695, 1070, 1220, 1685,  620,  855, 2115, 2135,\n",
       "       1600, 1680,  865,  785, 2240, 2170, 1555, 2105, 1185, 1675, 2820,\n",
       "        635,   95,  970, 2300,  360, 1010,  850, 1400, 1060,  695, 1100,\n",
       "        400, 1855, 1480, 1790, 1705, 1035, 1365, 1525, 1310, 1995, 1815,\n",
       "        215, 1660, 1825, 1130, 1665,  915,  640, 1575, 2185, 1610,  945,\n",
       "       1180, 1345, 1175, 1500, 1605, 2280,  255, 1510, 1095,  410, 1435,\n",
       "       1075, 1405, 1030, 1460, 1710, 1630, 1160,  935,  565, 1290, 2065,\n",
       "       1115, 1780, 1565, 1745, 1645,  990,  670, 1735, 1750, 2040, 1840,\n",
       "       1845, 1975,  605, 2120, 1925, 1900, 1190, 2025, 1810,  820, 1170,\n",
       "       1890, 2070, 1670, 2315, 2525,  250, 2345,  230,    5, 1950, 1915,\n",
       "       2000, 1650, 1135,  595, 2480, 1205, 1910, 2565,  205, 2230, 1770,\n",
       "       1940, 1250, 2420,  815, 2860], dtype=int64)"
      ]
     },
     "execution_count": 14,
     "metadata": {},
     "output_type": "execute_result"
    }
   ],
   "source": [
    "data[\"traveling_in_minutes\"].unique()"
   ]
  },
  {
   "cell_type": "code",
   "execution_count": 15,
   "id": "b085357c-bc3e-4fa8-9fe3-20df526f86cc",
   "metadata": {},
   "outputs": [
    {
     "data": {
      "text/html": [
       "<div>\n",
       "<style scoped>\n",
       "    .dataframe tbody tr th:only-of-type {\n",
       "        vertical-align: middle;\n",
       "    }\n",
       "\n",
       "    .dataframe tbody tr th {\n",
       "        vertical-align: top;\n",
       "    }\n",
       "\n",
       "    .dataframe thead th {\n",
       "        text-align: right;\n",
       "    }\n",
       "</style>\n",
       "<table border=\"1\" class=\"dataframe\">\n",
       "  <thead>\n",
       "    <tr style=\"text-align: right;\">\n",
       "      <th></th>\n",
       "      <th>Airline</th>\n",
       "      <th>Date_of_Journey</th>\n",
       "      <th>Source</th>\n",
       "      <th>Destination</th>\n",
       "      <th>Route</th>\n",
       "      <th>Dep_Time</th>\n",
       "      <th>Arrival_Time</th>\n",
       "      <th>Duration</th>\n",
       "      <th>Total_Stops</th>\n",
       "      <th>Additional_Info</th>\n",
       "      <th>Price</th>\n",
       "      <th>traveling_in_minutes</th>\n",
       "    </tr>\n",
       "  </thead>\n",
       "  <tbody>\n",
       "    <tr>\n",
       "      <th>0</th>\n",
       "      <td>IndiGo</td>\n",
       "      <td>24/03/2019</td>\n",
       "      <td>Banglore</td>\n",
       "      <td>New Delhi</td>\n",
       "      <td>BLR → DEL</td>\n",
       "      <td>22:20</td>\n",
       "      <td>01:10 22 Mar</td>\n",
       "      <td>2h 50m</td>\n",
       "      <td>non-stop</td>\n",
       "      <td>No info</td>\n",
       "      <td>3897</td>\n",
       "      <td>170</td>\n",
       "    </tr>\n",
       "    <tr>\n",
       "      <th>1</th>\n",
       "      <td>Air India</td>\n",
       "      <td>1/05/2019</td>\n",
       "      <td>Kolkata</td>\n",
       "      <td>Banglore</td>\n",
       "      <td>CCU → IXR → BBI → BLR</td>\n",
       "      <td>05:50</td>\n",
       "      <td>13:15</td>\n",
       "      <td>7h 25m</td>\n",
       "      <td>2 stops</td>\n",
       "      <td>No info</td>\n",
       "      <td>7662</td>\n",
       "      <td>445</td>\n",
       "    </tr>\n",
       "    <tr>\n",
       "      <th>2</th>\n",
       "      <td>Jet Airways</td>\n",
       "      <td>9/06/2019</td>\n",
       "      <td>Delhi</td>\n",
       "      <td>Cochin</td>\n",
       "      <td>DEL → LKO → BOM → COK</td>\n",
       "      <td>09:25</td>\n",
       "      <td>04:25 10 Jun</td>\n",
       "      <td>19h</td>\n",
       "      <td>2 stops</td>\n",
       "      <td>No info</td>\n",
       "      <td>13882</td>\n",
       "      <td>1140</td>\n",
       "    </tr>\n",
       "    <tr>\n",
       "      <th>3</th>\n",
       "      <td>IndiGo</td>\n",
       "      <td>12/05/2019</td>\n",
       "      <td>Kolkata</td>\n",
       "      <td>Banglore</td>\n",
       "      <td>CCU → NAG → BLR</td>\n",
       "      <td>18:05</td>\n",
       "      <td>23:30</td>\n",
       "      <td>5h 25m</td>\n",
       "      <td>1 stop</td>\n",
       "      <td>No info</td>\n",
       "      <td>6218</td>\n",
       "      <td>325</td>\n",
       "    </tr>\n",
       "    <tr>\n",
       "      <th>4</th>\n",
       "      <td>IndiGo</td>\n",
       "      <td>01/03/2019</td>\n",
       "      <td>Banglore</td>\n",
       "      <td>New Delhi</td>\n",
       "      <td>BLR → NAG → DEL</td>\n",
       "      <td>16:50</td>\n",
       "      <td>21:35</td>\n",
       "      <td>4h 45m</td>\n",
       "      <td>1 stop</td>\n",
       "      <td>No info</td>\n",
       "      <td>13302</td>\n",
       "      <td>285</td>\n",
       "    </tr>\n",
       "  </tbody>\n",
       "</table>\n",
       "</div>"
      ],
      "text/plain": [
       "       Airline Date_of_Journey    Source Destination                  Route  \\\n",
       "0       IndiGo      24/03/2019  Banglore   New Delhi              BLR → DEL   \n",
       "1    Air India       1/05/2019   Kolkata    Banglore  CCU → IXR → BBI → BLR   \n",
       "2  Jet Airways       9/06/2019     Delhi      Cochin  DEL → LKO → BOM → COK   \n",
       "3       IndiGo      12/05/2019   Kolkata    Banglore        CCU → NAG → BLR   \n",
       "4       IndiGo      01/03/2019  Banglore   New Delhi        BLR → NAG → DEL   \n",
       "\n",
       "  Dep_Time  Arrival_Time Duration Total_Stops Additional_Info  Price  \\\n",
       "0    22:20  01:10 22 Mar   2h 50m    non-stop         No info   3897   \n",
       "1    05:50         13:15   7h 25m     2 stops         No info   7662   \n",
       "2    09:25  04:25 10 Jun      19h     2 stops         No info  13882   \n",
       "3    18:05         23:30   5h 25m      1 stop         No info   6218   \n",
       "4    16:50         21:35   4h 45m      1 stop         No info  13302   \n",
       "\n",
       "   traveling_in_minutes  \n",
       "0                   170  \n",
       "1                   445  \n",
       "2                  1140  \n",
       "3                   325  \n",
       "4                   285  "
      ]
     },
     "execution_count": 15,
     "metadata": {},
     "output_type": "execute_result"
    }
   ],
   "source": [
    "data.head()"
   ]
  },
  {
   "cell_type": "code",
   "execution_count": 16,
   "id": "781dc77c-8d16-4023-b494-f3bff035185e",
   "metadata": {},
   "outputs": [
    {
     "name": "stderr",
     "output_type": "stream",
     "text": [
      "C:\\Users\\salma\\anaconda3\\Lib\\site-packages\\seaborn\\_oldcore.py:1119: FutureWarning: use_inf_as_na option is deprecated and will be removed in a future version. Convert inf values to NaN before operating instead.\n",
      "  with pd.option_context('mode.use_inf_as_na', True):\n"
     ]
    },
    {
     "data": {
      "image/png": "[encoded data removed]",
      "text/plain": [
       "<Figure size 500x500 with 1 Axes>"
      ]
     },
     "metadata": {},
     "output_type": "display_data"
    }
   ],
   "source": [
    "sns.displot(data[\"traveling_in_minutes\"])\n",
    "plt.xticks(rotation=90)\n",
    "plt.show()"
   ]
  },
  {
   "cell_type": "code",
   "execution_count": 17,
   "id": "09360012-fc4d-4bd8-b324-8b55b1cdbadb",
   "metadata": {},
   "outputs": [],
   "source": [
    "def select_date(date):\n",
    "    data[\"year\"]=pd.to_datetime(date).dt.year\n",
    "    data[\"month\"]=pd.to_datetime(date).dt.month_name()\n",
    "    data[\"day\"]=pd.to_datetime(date).dt.day\n",
    "    data[\"day_of_the_week\"]=pd.to_datetime(date).dt.day_name()"
   ]
  },
  {
   "cell_type": "code",
   "execution_count": 18,
   "id": "d5f80de1-1165-4ec7-bedd-f9b50bc39cce",
   "metadata": {
    "scrolled": true
   },
   "outputs": [
    {
     "name": "stderr",
     "output_type": "stream",
     "text": [
      "C:\\Users\\salma\\AppData\\Local\\Temp\\ipykernel_10336\\314007637.py:2: UserWarning: Parsing dates in %d/%m/%Y format when dayfirst=False (the default) was specified. Pass `dayfirst=True` or specify a format to silence this warning.\n",
      "  data[\"year\"]=pd.to_datetime(date).dt.year\n",
      "C:\\Users\\salma\\AppData\\Local\\Temp\\ipykernel_10336\\314007637.py:3: UserWarning: Parsing dates in %d/%m/%Y format when dayfirst=False (the default) was specified. Pass `dayfirst=True` or specify a format to silence this warning.\n",
      "  data[\"month\"]=pd.to_datetime(date).dt.month_name()\n",
      "C:\\Users\\salma\\AppData\\Local\\Temp\\ipykernel_10336\\314007637.py:4: UserWarning: Parsing dates in %d/%m/%Y format when dayfirst=False (the default) was specified. Pass `dayfirst=True` or specify a format to silence this warning.\n",
      "  data[\"day\"]=pd.to_datetime(date).dt.day\n",
      "C:\\Users\\salma\\AppData\\Local\\Temp\\ipykernel_10336\\314007637.py:5: UserWarning: Parsing dates in %d/%m/%Y format when dayfirst=False (the default) was specified. Pass `dayfirst=True` or specify a format to silence this warning.\n",
      "  data[\"day_of_the_week\"]=pd.to_datetime(date).dt.day_name()\n"
     ]
    }
   ],
   "source": [
    "select_date(data[\"Date_of_Journey\"])"
   ]
  },
  {
   "cell_type": "code",
   "execution_count": 19,
   "id": "3be5e97e-e617-423f-89b7-e7a02afe2783",
   "metadata": {},
   "outputs": [
    {
     "name": "stderr",
     "output_type": "stream",
     "text": [
      "C:\\Users\\salma\\anaconda3\\Lib\\site-packages\\seaborn\\_oldcore.py:1119: FutureWarning: use_inf_as_na option is deprecated and will be removed in a future version. Convert inf values to NaN before operating instead.\n",
      "  with pd.option_context('mode.use_inf_as_na', True):\n"
     ]
    },
    {
     "data": {
      "image/png": "[encoded data removed]",
      "text/plain": [
       "<Figure size 500x500 with 1 Axes>"
      ]
     },
     "metadata": {},
     "output_type": "display_data"
    }
   ],
   "source": [
    "# day of the week\n",
    "sns.displot(data[\"day_of_the_week\"])\n",
    "plt.xticks(rotation=90)\n",
    "plt.show()"
   ]
  },
  {
   "cell_type": "code",
   "execution_count": 20,
   "id": "386c51dc-70dc-4efc-9d00-d79631e144f7",
   "metadata": {
    "scrolled": true
   },
   "outputs": [
    {
     "name": "stderr",
     "output_type": "stream",
     "text": [
      "C:\\Users\\salma\\anaconda3\\Lib\\site-packages\\seaborn\\_oldcore.py:1119: FutureWarning: use_inf_as_na option is deprecated and will be removed in a future version. Convert inf values to NaN before operating instead.\n",
      "  with pd.option_context('mode.use_inf_as_na', True):\n"
     ]
    },
    {
     "data": {
      "image/png": "[encoded data removed]",
      "text/plain": [
       "<Figure size 500x500 with 1 Axes>"
      ]
     },
     "metadata": {},
     "output_type": "display_data"
    }
   ],
   "source": [
    "# distrubution of month\n",
    "sns.displot(data[\"month\"])\n",
    "plt.xticks(rotation=90)\n",
    "plt.show()"
   ]
  },
  {
   "cell_type": "code",
   "execution_count": 21,
   "id": "9e63f555-c847-45af-82fa-2f22db45a427",
   "metadata": {},
   "outputs": [
    {
     "data": {
      "text/plain": [
       "array(['March', 'May', 'June', 'April'], dtype=object)"
      ]
     },
     "execution_count": 21,
     "metadata": {},
     "output_type": "execute_result"
    }
   ],
   "source": [
    "data[\"month\"].unique()"
   ]
  },
  {
   "cell_type": "code",
   "execution_count": 22,
   "id": "77c58723-73c6-4e1a-a527-c59edb136706",
   "metadata": {},
   "outputs": [
    {
     "name": "stderr",
     "output_type": "stream",
     "text": [
      "C:\\Users\\salma\\AppData\\Local\\Temp\\ipykernel_10336\\2647153070.py:1: UserWarning: Could not infer format, so each element will be parsed individually, falling back to `dateutil`. To ensure parsing is consistent and as-expected, please specify a format.\n",
      "  data[\"Dep_Time\"]=pd.to_datetime(data[\"Dep_Time\"]).dt.hour\n"
     ]
    }
   ],
   "source": [
    "data[\"Dep_Time\"]=pd.to_datetime(data[\"Dep_Time\"]).dt.hour"
   ]
  },
  {
   "cell_type": "code",
   "execution_count": 23,
   "id": "4b1906b8-7496-4239-8b75-859a611e6190",
   "metadata": {},
   "outputs": [],
   "source": [
    "deletes=[\"Date_of_Journey\",\"Route\",\"Arrival_Time\",\"Duration\",\"year\"]\n",
    "data.drop(deletes,axis=1,inplace=True)"
   ]
  },
  {
   "cell_type": "markdown",
   "id": "4e4af190-c6c3-473d-91de-92b0e0994362",
   "metadata": {},
   "source": [
    "## get dummys and scale"
   ]
  },
  {
   "cell_type": "code",
   "execution_count": 26,
   "id": "33c9a5a9-fe9f-4603-a13d-1baa289e5b01",
   "metadata": {},
   "outputs": [
    {
     "data": {
      "text/html": [
       "<div>\n",
       "<style scoped>\n",
       "    .dataframe tbody tr th:only-of-type {\n",
       "        vertical-align: middle;\n",
       "    }\n",
       "\n",
       "    .dataframe tbody tr th {\n",
       "        vertical-align: top;\n",
       "    }\n",
       "\n",
       "    .dataframe thead th {\n",
       "        text-align: right;\n",
       "    }\n",
       "</style>\n",
       "<table border=\"1\" class=\"dataframe\">\n",
       "  <thead>\n",
       "    <tr style=\"text-align: right;\">\n",
       "      <th></th>\n",
       "      <th>Airline</th>\n",
       "      <th>Source</th>\n",
       "      <th>Destination</th>\n",
       "      <th>Dep_Time</th>\n",
       "      <th>Total_Stops</th>\n",
       "      <th>Additional_Info</th>\n",
       "      <th>Price</th>\n",
       "      <th>traveling_in_minutes</th>\n",
       "      <th>month</th>\n",
       "      <th>day</th>\n",
       "      <th>day_of_the_week</th>\n",
       "    </tr>\n",
       "  </thead>\n",
       "  <tbody>\n",
       "    <tr>\n",
       "      <th>0</th>\n",
       "      <td>IndiGo</td>\n",
       "      <td>Banglore</td>\n",
       "      <td>New Delhi</td>\n",
       "      <td>22</td>\n",
       "      <td>non-stop</td>\n",
       "      <td>No info</td>\n",
       "      <td>3897</td>\n",
       "      <td>170</td>\n",
       "      <td>March</td>\n",
       "      <td>24</td>\n",
       "      <td>Sunday</td>\n",
       "    </tr>\n",
       "    <tr>\n",
       "      <th>1</th>\n",
       "      <td>Air India</td>\n",
       "      <td>Kolkata</td>\n",
       "      <td>Banglore</td>\n",
       "      <td>5</td>\n",
       "      <td>2 stops</td>\n",
       "      <td>No info</td>\n",
       "      <td>7662</td>\n",
       "      <td>445</td>\n",
       "      <td>May</td>\n",
       "      <td>1</td>\n",
       "      <td>Wednesday</td>\n",
       "    </tr>\n",
       "    <tr>\n",
       "      <th>2</th>\n",
       "      <td>Jet Airways</td>\n",
       "      <td>Delhi</td>\n",
       "      <td>Cochin</td>\n",
       "      <td>9</td>\n",
       "      <td>2 stops</td>\n",
       "      <td>No info</td>\n",
       "      <td>13882</td>\n",
       "      <td>1140</td>\n",
       "      <td>June</td>\n",
       "      <td>9</td>\n",
       "      <td>Sunday</td>\n",
       "    </tr>\n",
       "    <tr>\n",
       "      <th>3</th>\n",
       "      <td>IndiGo</td>\n",
       "      <td>Kolkata</td>\n",
       "      <td>Banglore</td>\n",
       "      <td>18</td>\n",
       "      <td>1 stop</td>\n",
       "      <td>No info</td>\n",
       "      <td>6218</td>\n",
       "      <td>325</td>\n",
       "      <td>May</td>\n",
       "      <td>12</td>\n",
       "      <td>Sunday</td>\n",
       "    </tr>\n",
       "    <tr>\n",
       "      <th>4</th>\n",
       "      <td>IndiGo</td>\n",
       "      <td>Banglore</td>\n",
       "      <td>New Delhi</td>\n",
       "      <td>16</td>\n",
       "      <td>1 stop</td>\n",
       "      <td>No info</td>\n",
       "      <td>13302</td>\n",
       "      <td>285</td>\n",
       "      <td>March</td>\n",
       "      <td>1</td>\n",
       "      <td>Friday</td>\n",
       "    </tr>\n",
       "    <tr>\n",
       "      <th>...</th>\n",
       "      <td>...</td>\n",
       "      <td>...</td>\n",
       "      <td>...</td>\n",
       "      <td>...</td>\n",
       "      <td>...</td>\n",
       "      <td>...</td>\n",
       "      <td>...</td>\n",
       "      <td>...</td>\n",
       "      <td>...</td>\n",
       "      <td>...</td>\n",
       "      <td>...</td>\n",
       "    </tr>\n",
       "    <tr>\n",
       "      <th>10678</th>\n",
       "      <td>Air Asia</td>\n",
       "      <td>Kolkata</td>\n",
       "      <td>Banglore</td>\n",
       "      <td>19</td>\n",
       "      <td>non-stop</td>\n",
       "      <td>No info</td>\n",
       "      <td>4107</td>\n",
       "      <td>150</td>\n",
       "      <td>April</td>\n",
       "      <td>9</td>\n",
       "      <td>Tuesday</td>\n",
       "    </tr>\n",
       "    <tr>\n",
       "      <th>10679</th>\n",
       "      <td>Air India</td>\n",
       "      <td>Kolkata</td>\n",
       "      <td>Banglore</td>\n",
       "      <td>20</td>\n",
       "      <td>non-stop</td>\n",
       "      <td>No info</td>\n",
       "      <td>4145</td>\n",
       "      <td>155</td>\n",
       "      <td>April</td>\n",
       "      <td>27</td>\n",
       "      <td>Saturday</td>\n",
       "    </tr>\n",
       "    <tr>\n",
       "      <th>10680</th>\n",
       "      <td>Jet Airways</td>\n",
       "      <td>Banglore</td>\n",
       "      <td>Delhi</td>\n",
       "      <td>8</td>\n",
       "      <td>non-stop</td>\n",
       "      <td>No info</td>\n",
       "      <td>7229</td>\n",
       "      <td>180</td>\n",
       "      <td>April</td>\n",
       "      <td>27</td>\n",
       "      <td>Saturday</td>\n",
       "    </tr>\n",
       "    <tr>\n",
       "      <th>10681</th>\n",
       "      <td>Vistara</td>\n",
       "      <td>Banglore</td>\n",
       "      <td>New Delhi</td>\n",
       "      <td>11</td>\n",
       "      <td>non-stop</td>\n",
       "      <td>No info</td>\n",
       "      <td>12648</td>\n",
       "      <td>160</td>\n",
       "      <td>March</td>\n",
       "      <td>1</td>\n",
       "      <td>Friday</td>\n",
       "    </tr>\n",
       "    <tr>\n",
       "      <th>10682</th>\n",
       "      <td>Air India</td>\n",
       "      <td>Delhi</td>\n",
       "      <td>Cochin</td>\n",
       "      <td>10</td>\n",
       "      <td>2 stops</td>\n",
       "      <td>No info</td>\n",
       "      <td>11753</td>\n",
       "      <td>500</td>\n",
       "      <td>May</td>\n",
       "      <td>9</td>\n",
       "      <td>Thursday</td>\n",
       "    </tr>\n",
       "  </tbody>\n",
       "</table>\n",
       "<p>10683 rows × 11 columns</p>\n",
       "</div>"
      ],
      "text/plain": [
       "           Airline    Source Destination  Dep_Time Total_Stops  \\\n",
       "0           IndiGo  Banglore   New Delhi        22    non-stop   \n",
       "1        Air India   Kolkata    Banglore         5     2 stops   \n",
       "2      Jet Airways     Delhi      Cochin         9     2 stops   \n",
       "3           IndiGo   Kolkata    Banglore        18      1 stop   \n",
       "4           IndiGo  Banglore   New Delhi        16      1 stop   \n",
       "...            ...       ...         ...       ...         ...   \n",
       "10678     Air Asia   Kolkata    Banglore        19    non-stop   \n",
       "10679    Air India   Kolkata    Banglore        20    non-stop   \n",
       "10680  Jet Airways  Banglore       Delhi         8    non-stop   \n",
       "10681      Vistara  Banglore   New Delhi        11    non-stop   \n",
       "10682    Air India     Delhi      Cochin        10     2 stops   \n",
       "\n",
       "      Additional_Info  Price  traveling_in_minutes  month  day day_of_the_week  \n",
       "0             No info   3897                   170  March   24          Sunday  \n",
       "1             No info   7662                   445    May    1       Wednesday  \n",
       "2             No info  13882                  1140   June    9          Sunday  \n",
       "3             No info   6218                   325    May   12          Sunday  \n",
       "4             No info  13302                   285  March    1          Friday  \n",
       "...               ...    ...                   ...    ...  ...             ...  \n",
       "10678         No info   4107                   150  April    9         Tuesday  \n",
       "10679         No info   4145                   155  April   27        Saturday  \n",
       "10680         No info   7229                   180  April   27        Saturday  \n",
       "10681         No info  12648                   160  March    1          Friday  \n",
       "10682         No info  11753                   500    May    9        Thursday  \n",
       "\n",
       "[10683 rows x 11 columns]"
      ]
     },
     "execution_count": 26,
     "metadata": {},
     "output_type": "execute_result"
    }
   ],
   "source": [
    "data"
   ]
  },
  {
   "cell_type": "code",
   "execution_count": 27,
   "id": "4e690d8f-4384-4896-afb5-9c88caeb5497",
   "metadata": {},
   "outputs": [
    {
     "data": {
      "text/plain": [
       "Dep_Time                                        0\n",
       "Price                                           0\n",
       "traveling_in_minutes                            0\n",
       "day                                             0\n",
       "Airline_Air Asia                                0\n",
       "Airline_Air India                               0\n",
       "Airline_GoAir                                   0\n",
       "Airline_IndiGo                                  0\n",
       "Airline_Jet Airways                             0\n",
       "Airline_Jet Airways Business                    0\n",
       "Airline_Multiple carriers                       0\n",
       "Airline_Multiple carriers Premium economy       0\n",
       "Airline_SpiceJet                                0\n",
       "Airline_Trujet                                  0\n",
       "Airline_Vistara                                 0\n",
       "Airline_Vistara Premium economy                 0\n",
       "Source_Banglore                                 0\n",
       "Source_Chennai                                  0\n",
       "Source_Delhi                                    0\n",
       "Source_Kolkata                                  0\n",
       "Source_Mumbai                                   0\n",
       "Destination_Banglore                            0\n",
       "Destination_Cochin                              0\n",
       "Destination_Delhi                               0\n",
       "Destination_Hyderabad                           0\n",
       "Destination_Kolkata                             0\n",
       "Destination_New Delhi                           0\n",
       "Total_Stops_1 stop                              0\n",
       "Total_Stops_2 stops                             0\n",
       "Total_Stops_3 stops                             0\n",
       "Total_Stops_4 stops                             0\n",
       "Total_Stops_non-stop                            0\n",
       "Additional_Info_1 Long layover                  0\n",
       "Additional_Info_1 Short layover                 0\n",
       "Additional_Info_2 Long layover                  0\n",
       "Additional_Info_Business class                  0\n",
       "Additional_Info_Change airports                 0\n",
       "Additional_Info_In-flight meal not included     0\n",
       "Additional_Info_No Info                         0\n",
       "Additional_Info_No check-in baggage included    0\n",
       "Additional_Info_No info                         0\n",
       "Additional_Info_Red-eye flight                  0\n",
       "month_April                                     0\n",
       "month_June                                      0\n",
       "month_March                                     0\n",
       "month_May                                       0\n",
       "day_of_the_week_Friday                          0\n",
       "day_of_the_week_Monday                          0\n",
       "day_of_the_week_Saturday                        0\n",
       "day_of_the_week_Sunday                          0\n",
       "day_of_the_week_Thursday                        0\n",
       "day_of_the_week_Tuesday                         0\n",
       "day_of_the_week_Wednesday                       0\n",
       "dtype: int64"
      ]
     },
     "execution_count": 27,
     "metadata": {},
     "output_type": "execute_result"
    }
   ],
   "source": [
    "new_data=pd.get_dummies(data)\n",
    "new_data.isna().sum()"
   ]
  },
  {
   "cell_type": "code",
   "execution_count": 28,
   "id": "af8a49b4-8f37-4b74-84fc-838e7acd9088",
   "metadata": {},
   "outputs": [],
   "source": [
    "from sklearn.preprocessing import StandardScaler\n",
    "\n",
    "scaler=StandardScaler()\n",
    "new_data[new_data.columns]=scaler.fit_transform(new_data)\n"
   ]
  },
  {
   "cell_type": "code",
   "execution_count": 29,
   "id": "7352c401-c8e3-4f17-9a47-722a80a4a492",
   "metadata": {},
   "outputs": [
    {
     "data": {
      "text/html": [
       "<div>\n",
       "<style scoped>\n",
       "    .dataframe tbody tr th:only-of-type {\n",
       "        vertical-align: middle;\n",
       "    }\n",
       "\n",
       "    .dataframe tbody tr th {\n",
       "        vertical-align: top;\n",
       "    }\n",
       "\n",
       "    .dataframe thead th {\n",
       "        text-align: right;\n",
       "    }\n",
       "</style>\n",
       "<table border=\"1\" class=\"dataframe\">\n",
       "  <thead>\n",
       "    <tr style=\"text-align: right;\">\n",
       "      <th></th>\n",
       "      <th>Dep_Time</th>\n",
       "      <th>Price</th>\n",
       "      <th>traveling_in_minutes</th>\n",
       "      <th>day</th>\n",
       "      <th>Airline_Air Asia</th>\n",
       "      <th>Airline_Air India</th>\n",
       "      <th>Airline_GoAir</th>\n",
       "      <th>Airline_IndiGo</th>\n",
       "      <th>Airline_Jet Airways</th>\n",
       "      <th>Airline_Jet Airways Business</th>\n",
       "      <th>...</th>\n",
       "      <th>month_June</th>\n",
       "      <th>month_March</th>\n",
       "      <th>month_May</th>\n",
       "      <th>day_of_the_week_Friday</th>\n",
       "      <th>day_of_the_week_Monday</th>\n",
       "      <th>day_of_the_week_Saturday</th>\n",
       "      <th>day_of_the_week_Sunday</th>\n",
       "      <th>day_of_the_week_Thursday</th>\n",
       "      <th>day_of_the_week_Tuesday</th>\n",
       "      <th>day_of_the_week_Wednesday</th>\n",
       "    </tr>\n",
       "  </thead>\n",
       "  <tbody>\n",
       "    <tr>\n",
       "      <th>0</th>\n",
       "      <td>1.654259</td>\n",
       "      <td>-1.125548</td>\n",
       "      <td>-0.931583</td>\n",
       "      <td>1.237383</td>\n",
       "      <td>-0.175441</td>\n",
       "      <td>-0.442912</td>\n",
       "      <td>-0.135998</td>\n",
       "      <td>2.050269</td>\n",
       "      <td>-0.750475</td>\n",
       "      <td>-0.023706</td>\n",
       "      <td>...</td>\n",
       "      <td>-0.685322</td>\n",
       "      <td>1.709329</td>\n",
       "      <td>-0.693004</td>\n",
       "      <td>-0.304962</td>\n",
       "      <td>-0.457648</td>\n",
       "      <td>-0.430451</td>\n",
       "      <td>2.499525</td>\n",
       "      <td>-0.454953</td>\n",
       "      <td>-0.297568</td>\n",
       "      <td>-0.491561</td>\n",
       "    </tr>\n",
       "    <tr>\n",
       "      <th>1</th>\n",
       "      <td>-1.303095</td>\n",
       "      <td>-0.309048</td>\n",
       "      <td>-0.390072</td>\n",
       "      <td>-1.475239</td>\n",
       "      <td>-0.175441</td>\n",
       "      <td>2.257787</td>\n",
       "      <td>-0.135998</td>\n",
       "      <td>-0.487741</td>\n",
       "      <td>-0.750475</td>\n",
       "      <td>-0.023706</td>\n",
       "      <td>...</td>\n",
       "      <td>-0.685322</td>\n",
       "      <td>-0.585025</td>\n",
       "      <td>1.442992</td>\n",
       "      <td>-0.304962</td>\n",
       "      <td>-0.457648</td>\n",
       "      <td>-0.430451</td>\n",
       "      <td>-0.400076</td>\n",
       "      <td>-0.454953</td>\n",
       "      <td>-0.297568</td>\n",
       "      <td>2.034337</td>\n",
       "    </tr>\n",
       "    <tr>\n",
       "      <th>2</th>\n",
       "      <td>-0.607247</td>\n",
       "      <td>1.039858</td>\n",
       "      <td>0.978475</td>\n",
       "      <td>-0.531719</td>\n",
       "      <td>-0.175441</td>\n",
       "      <td>-0.442912</td>\n",
       "      <td>-0.135998</td>\n",
       "      <td>-0.487741</td>\n",
       "      <td>1.332489</td>\n",
       "      <td>-0.023706</td>\n",
       "      <td>...</td>\n",
       "      <td>1.459169</td>\n",
       "      <td>-0.585025</td>\n",
       "      <td>-0.693004</td>\n",
       "      <td>-0.304962</td>\n",
       "      <td>-0.457648</td>\n",
       "      <td>-0.430451</td>\n",
       "      <td>2.499525</td>\n",
       "      <td>-0.454953</td>\n",
       "      <td>-0.297568</td>\n",
       "      <td>-0.491561</td>\n",
       "    </tr>\n",
       "    <tr>\n",
       "      <th>3</th>\n",
       "      <td>0.958411</td>\n",
       "      <td>-0.622202</td>\n",
       "      <td>-0.626367</td>\n",
       "      <td>-0.177898</td>\n",
       "      <td>-0.175441</td>\n",
       "      <td>-0.442912</td>\n",
       "      <td>-0.135998</td>\n",
       "      <td>2.050269</td>\n",
       "      <td>-0.750475</td>\n",
       "      <td>-0.023706</td>\n",
       "      <td>...</td>\n",
       "      <td>-0.685322</td>\n",
       "      <td>-0.585025</td>\n",
       "      <td>1.442992</td>\n",
       "      <td>-0.304962</td>\n",
       "      <td>-0.457648</td>\n",
       "      <td>-0.430451</td>\n",
       "      <td>2.499525</td>\n",
       "      <td>-0.454953</td>\n",
       "      <td>-0.297568</td>\n",
       "      <td>-0.491561</td>\n",
       "    </tr>\n",
       "    <tr>\n",
       "      <th>4</th>\n",
       "      <td>0.610487</td>\n",
       "      <td>0.914076</td>\n",
       "      <td>-0.705132</td>\n",
       "      <td>-1.475239</td>\n",
       "      <td>-0.175441</td>\n",
       "      <td>-0.442912</td>\n",
       "      <td>-0.135998</td>\n",
       "      <td>2.050269</td>\n",
       "      <td>-0.750475</td>\n",
       "      <td>-0.023706</td>\n",
       "      <td>...</td>\n",
       "      <td>-0.685322</td>\n",
       "      <td>1.709329</td>\n",
       "      <td>-0.693004</td>\n",
       "      <td>3.279097</td>\n",
       "      <td>-0.457648</td>\n",
       "      <td>-0.430451</td>\n",
       "      <td>-0.400076</td>\n",
       "      <td>-0.454953</td>\n",
       "      <td>-0.297568</td>\n",
       "      <td>-0.491561</td>\n",
       "    </tr>\n",
       "    <tr>\n",
       "      <th>...</th>\n",
       "      <td>...</td>\n",
       "      <td>...</td>\n",
       "      <td>...</td>\n",
       "      <td>...</td>\n",
       "      <td>...</td>\n",
       "      <td>...</td>\n",
       "      <td>...</td>\n",
       "      <td>...</td>\n",
       "      <td>...</td>\n",
       "      <td>...</td>\n",
       "      <td>...</td>\n",
       "      <td>...</td>\n",
       "      <td>...</td>\n",
       "      <td>...</td>\n",
       "      <td>...</td>\n",
       "      <td>...</td>\n",
       "      <td>...</td>\n",
       "      <td>...</td>\n",
       "      <td>...</td>\n",
       "      <td>...</td>\n",
       "      <td>...</td>\n",
       "    </tr>\n",
       "    <tr>\n",
       "      <th>10678</th>\n",
       "      <td>1.132373</td>\n",
       "      <td>-1.080006</td>\n",
       "      <td>-0.970965</td>\n",
       "      <td>-0.531719</td>\n",
       "      <td>5.699915</td>\n",
       "      <td>-0.442912</td>\n",
       "      <td>-0.135998</td>\n",
       "      <td>-0.487741</td>\n",
       "      <td>-0.750475</td>\n",
       "      <td>-0.023706</td>\n",
       "      <td>...</td>\n",
       "      <td>-0.685322</td>\n",
       "      <td>-0.585025</td>\n",
       "      <td>-0.693004</td>\n",
       "      <td>-0.304962</td>\n",
       "      <td>-0.457648</td>\n",
       "      <td>-0.430451</td>\n",
       "      <td>-0.400076</td>\n",
       "      <td>-0.454953</td>\n",
       "      <td>3.360571</td>\n",
       "      <td>-0.491561</td>\n",
       "    </tr>\n",
       "    <tr>\n",
       "      <th>10679</th>\n",
       "      <td>1.306335</td>\n",
       "      <td>-1.071765</td>\n",
       "      <td>-0.961120</td>\n",
       "      <td>1.591203</td>\n",
       "      <td>-0.175441</td>\n",
       "      <td>2.257787</td>\n",
       "      <td>-0.135998</td>\n",
       "      <td>-0.487741</td>\n",
       "      <td>-0.750475</td>\n",
       "      <td>-0.023706</td>\n",
       "      <td>...</td>\n",
       "      <td>-0.685322</td>\n",
       "      <td>-0.585025</td>\n",
       "      <td>-0.693004</td>\n",
       "      <td>-0.304962</td>\n",
       "      <td>-0.457648</td>\n",
       "      <td>2.323146</td>\n",
       "      <td>-0.400076</td>\n",
       "      <td>-0.454953</td>\n",
       "      <td>-0.297568</td>\n",
       "      <td>-0.491561</td>\n",
       "    </tr>\n",
       "    <tr>\n",
       "      <th>10680</th>\n",
       "      <td>-0.781209</td>\n",
       "      <td>-0.402951</td>\n",
       "      <td>-0.911891</td>\n",
       "      <td>1.591203</td>\n",
       "      <td>-0.175441</td>\n",
       "      <td>-0.442912</td>\n",
       "      <td>-0.135998</td>\n",
       "      <td>-0.487741</td>\n",
       "      <td>1.332489</td>\n",
       "      <td>-0.023706</td>\n",
       "      <td>...</td>\n",
       "      <td>-0.685322</td>\n",
       "      <td>-0.585025</td>\n",
       "      <td>-0.693004</td>\n",
       "      <td>-0.304962</td>\n",
       "      <td>-0.457648</td>\n",
       "      <td>2.323146</td>\n",
       "      <td>-0.400076</td>\n",
       "      <td>-0.454953</td>\n",
       "      <td>-0.297568</td>\n",
       "      <td>-0.491561</td>\n",
       "    </tr>\n",
       "    <tr>\n",
       "      <th>10681</th>\n",
       "      <td>-0.259323</td>\n",
       "      <td>0.772246</td>\n",
       "      <td>-0.951274</td>\n",
       "      <td>-1.475239</td>\n",
       "      <td>-0.175441</td>\n",
       "      <td>-0.442912</td>\n",
       "      <td>-0.135998</td>\n",
       "      <td>-0.487741</td>\n",
       "      <td>-0.750475</td>\n",
       "      <td>-0.023706</td>\n",
       "      <td>...</td>\n",
       "      <td>-0.685322</td>\n",
       "      <td>1.709329</td>\n",
       "      <td>-0.693004</td>\n",
       "      <td>3.279097</td>\n",
       "      <td>-0.457648</td>\n",
       "      <td>-0.430451</td>\n",
       "      <td>-0.400076</td>\n",
       "      <td>-0.454953</td>\n",
       "      <td>-0.297568</td>\n",
       "      <td>-0.491561</td>\n",
       "    </tr>\n",
       "    <tr>\n",
       "      <th>10682</th>\n",
       "      <td>-0.433285</td>\n",
       "      <td>0.578151</td>\n",
       "      <td>-0.281769</td>\n",
       "      <td>-0.531719</td>\n",
       "      <td>-0.175441</td>\n",
       "      <td>2.257787</td>\n",
       "      <td>-0.135998</td>\n",
       "      <td>-0.487741</td>\n",
       "      <td>-0.750475</td>\n",
       "      <td>-0.023706</td>\n",
       "      <td>...</td>\n",
       "      <td>-0.685322</td>\n",
       "      <td>-0.585025</td>\n",
       "      <td>1.442992</td>\n",
       "      <td>-0.304962</td>\n",
       "      <td>-0.457648</td>\n",
       "      <td>-0.430451</td>\n",
       "      <td>-0.400076</td>\n",
       "      <td>2.198029</td>\n",
       "      <td>-0.297568</td>\n",
       "      <td>-0.491561</td>\n",
       "    </tr>\n",
       "  </tbody>\n",
       "</table>\n",
       "<p>10683 rows × 53 columns</p>\n",
       "</div>"
      ],
      "text/plain": [
       "       Dep_Time     Price  traveling_in_minutes       day  Airline_Air Asia  \\\n",
       "0      1.654259 -1.125548             -0.931583  1.237383         -0.175441   \n",
       "1     -1.303095 -0.309048             -0.390072 -1.475239         -0.175441   \n",
       "2     -0.607247  1.039858              0.978475 -0.531719         -0.175441   \n",
       "3      0.958411 -0.622202             -0.626367 -0.177898         -0.175441   \n",
       "4      0.610487  0.914076             -0.705132 -1.475239         -0.175441   \n",
       "...         ...       ...                   ...       ...               ...   \n",
       "10678  1.132373 -1.080006             -0.970965 -0.531719          5.699915   \n",
       "10679  1.306335 -1.071765             -0.961120  1.591203         -0.175441   \n",
       "10680 -0.781209 -0.402951             -0.911891  1.591203         -0.175441   \n",
       "10681 -0.259323  0.772246             -0.951274 -1.475239         -0.175441   \n",
       "10682 -0.433285  0.578151             -0.281769 -0.531719         -0.175441   \n",
       "\n",
       "       Airline_Air India  Airline_GoAir  Airline_IndiGo  Airline_Jet Airways  \\\n",
       "0              -0.442912      -0.135998        2.050269            -0.750475   \n",
       "1               2.257787      -0.135998       -0.487741            -0.750475   \n",
       "2              -0.442912      -0.135998       -0.487741             1.332489   \n",
       "3              -0.442912      -0.135998        2.050269            -0.750475   \n",
       "4              -0.442912      -0.135998        2.050269            -0.750475   \n",
       "...                  ...            ...             ...                  ...   \n",
       "10678          -0.442912      -0.135998       -0.487741            -0.750475   \n",
       "10679           2.257787      -0.135998       -0.487741            -0.750475   \n",
       "10680          -0.442912      -0.135998       -0.487741             1.332489   \n",
       "10681          -0.442912      -0.135998       -0.487741            -0.750475   \n",
       "10682           2.257787      -0.135998       -0.487741            -0.750475   \n",
       "\n",
       "       Airline_Jet Airways Business  ...  month_June  month_March  month_May  \\\n",
       "0                         -0.023706  ...   -0.685322     1.709329  -0.693004   \n",
       "1                         -0.023706  ...   -0.685322    -0.585025   1.442992   \n",
       "2                         -0.023706  ...    1.459169    -0.585025  -0.693004   \n",
       "3                         -0.023706  ...   -0.685322    -0.585025   1.442992   \n",
       "4                         -0.023706  ...   -0.685322     1.709329  -0.693004   \n",
       "...                             ...  ...         ...          ...        ...   \n",
       "10678                     -0.023706  ...   -0.685322    -0.585025  -0.693004   \n",
       "10679                     -0.023706  ...   -0.685322    -0.585025  -0.693004   \n",
       "10680                     -0.023706  ...   -0.685322    -0.585025  -0.693004   \n",
       "10681                     -0.023706  ...   -0.685322     1.709329  -0.693004   \n",
       "10682                     -0.023706  ...   -0.685322    -0.585025   1.442992   \n",
       "\n",
       "       day_of_the_week_Friday  day_of_the_week_Monday  \\\n",
       "0                   -0.304962               -0.457648   \n",
       "1                   -0.304962               -0.457648   \n",
       "2                   -0.304962               -0.457648   \n",
       "3                   -0.304962               -0.457648   \n",
       "4                    3.279097               -0.457648   \n",
       "...                       ...                     ...   \n",
       "10678               -0.304962               -0.457648   \n",
       "10679               -0.304962               -0.457648   \n",
       "10680               -0.304962               -0.457648   \n",
       "10681                3.279097               -0.457648   \n",
       "10682               -0.304962               -0.457648   \n",
       "\n",
       "       day_of_the_week_Saturday  day_of_the_week_Sunday  \\\n",
       "0                     -0.430451                2.499525   \n",
       "1                     -0.430451               -0.400076   \n",
       "2                     -0.430451                2.499525   \n",
       "3                     -0.430451                2.499525   \n",
       "4                     -0.430451               -0.400076   \n",
       "...                         ...                     ...   \n",
       "10678                 -0.430451               -0.400076   \n",
       "10679                  2.323146               -0.400076   \n",
       "10680                  2.323146               -0.400076   \n",
       "10681                 -0.430451               -0.400076   \n",
       "10682                 -0.430451               -0.400076   \n",
       "\n",
       "       day_of_the_week_Thursday  day_of_the_week_Tuesday  \\\n",
       "0                     -0.454953                -0.297568   \n",
       "1                     -0.454953                -0.297568   \n",
       "2                     -0.454953                -0.297568   \n",
       "3                     -0.454953                -0.297568   \n",
       "4                     -0.454953                -0.297568   \n",
       "...                         ...                      ...   \n",
       "10678                 -0.454953                 3.360571   \n",
       "10679                 -0.454953                -0.297568   \n",
       "10680                 -0.454953                -0.297568   \n",
       "10681                 -0.454953                -0.297568   \n",
       "10682                  2.198029                -0.297568   \n",
       "\n",
       "       day_of_the_week_Wednesday  \n",
       "0                      -0.491561  \n",
       "1                       2.034337  \n",
       "2                      -0.491561  \n",
       "3                      -0.491561  \n",
       "4                      -0.491561  \n",
       "...                          ...  \n",
       "10678                  -0.491561  \n",
       "10679                  -0.491561  \n",
       "10680                  -0.491561  \n",
       "10681                  -0.491561  \n",
       "10682                  -0.491561  \n",
       "\n",
       "[10683 rows x 53 columns]"
      ]
     },
     "execution_count": 29,
     "metadata": {},
     "output_type": "execute_result"
    }
   ],
   "source": [
    "new_data"
   ]
  },
  {
   "cell_type": "markdown",
   "id": "adb283f7-c16d-43d0-b941-5147cb092344",
   "metadata": {},
   "source": [
    "### TRAIN VALIDATE TEST SPLIT"
   ]
  },
  {
   "cell_type": "code",
   "execution_count": 30,
   "id": "2527df1f-63c5-4726-ab4b-56d495a6e904",
   "metadata": {},
   "outputs": [],
   "source": [
    "from sklearn.model_selection import train_test_split\n",
    "y=new_data['Price']\n",
    "x=new_data.drop(\"Price\",axis=1)\n",
    "\n",
    "x_train, x_temp, y_train, y_temp = train_test_split(x, y, test_size=0.4, random_state=42)\n",
    "x_val, x_test, y_val, y_test = train_test_split(x_temp, y_temp, test_size=0.5, random_state=42)"
   ]
  },
  {
   "cell_type": "markdown",
   "id": "26df1488-e167-4581-8fff-c72831c8a5e4",
   "metadata": {},
   "source": [
    "### GRID SEARCH"
   ]
  },
  {
   "cell_type": "code",
   "execution_count": 31,
   "id": "72d7a15e-c4e5-4deb-a42d-c5f1cd8fe5b8",
   "metadata": {},
   "outputs": [],
   "source": [
    "import xgboost as xgb\n",
    "from sklearn.model_selection import GridSearchCV\n",
    "\n",
    "# Define the XGBoost model\n",
    "xgb_model = xgb.XGBRegressor(objective='reg:squarederror', eval_metric='rmse')\n",
    "\n",
    "\n",
    "param_grid = {\n",
    "    'n_estimators': [50, 100, 150],  \n",
    "    'max_depth': [3, 6, 10],          \n",
    "    'learning_rate': [0.01, 0.05, 0.1], \n",
    "    'subsample': [0.7, 0.8, 0.9],     \n",
    "    'colsample_bytree': [0.7, 0.8, 0.9], \n",
    "    'gamma': [0, 0.1, 0.2],          \n",
    "}"
   ]
  },
  {
   "cell_type": "code",
   "execution_count": 32,
   "id": "6d669a3c-ce4d-4d35-a0ab-99c9f728496e",
   "metadata": {},
   "outputs": [
    {
     "name": "stdout",
     "output_type": "stream",
     "text": [
      "Fitting 3 folds for each of 729 candidates, totalling 2187 fits\n"
     ]
    },
    {
     "data": {
      "text/html": [
       "<style>#sk-container-id-1 {color: black;background-color: white;}#sk-container-id-1 pre{padding: 0;}#sk-container-id-1 div.sk-toggleable {background-color: white;}#sk-container-id-1 label.sk-toggleable__label {cursor: pointer;display: block;width: 100%;margin-bottom: 0;padding: 0.3em;box-sizing: border-box;text-align: center;}#sk-container-id-1 label.sk-toggleable__label-arrow:before {content: \"▸\";float: left;margin-right: 0.25em;color: #696969;}#sk-container-id-1 label.sk-toggleable__label-arrow:hover:before {color: black;}#sk-container-id-1 div.sk-estimator:hover label.sk-toggleable__label-arrow:before {color: black;}#sk-container-id-1 div.sk-toggleable__content {max-height: 0;max-width: 0;overflow: hidden;text-align: left;background-color: #f0f8ff;}#sk-container-id-1 div.sk-toggleable__content pre {margin: 0.2em;color: black;border-radius: 0.25em;background-color: #f0f8ff;}#sk-container-id-1 input.sk-toggleable__control:checked~div.sk-toggleable__content {max-height: 200px;max-width: 100%;overflow: auto;}#sk-container-id-1 input.sk-toggleable__control:checked~label.sk-toggleable__label-arrow:before {content: \"▾\";}#sk-container-id-1 div.sk-estimator input.sk-toggleable__control:checked~label.sk-toggleable__label {background-color: #d4ebff;}#sk-container-id-1 div.sk-label input.sk-toggleable__control:checked~label.sk-toggleable__label {background-color: #d4ebff;}#sk-container-id-1 input.sk-hidden--visually {border: 0;clip: rect(1px 1px 1px 1px);clip: rect(1px, 1px, 1px, 1px);height: 1px;margin: -1px;overflow: hidden;padding: 0;position: absolute;width: 1px;}#sk-container-id-1 div.sk-estimator {font-family: monospace;background-color: #f0f8ff;border: 1px dotted black;border-radius: 0.25em;box-sizing: border-box;margin-bottom: 0.5em;}#sk-container-id-1 div.sk-estimator:hover {background-color: #d4ebff;}#sk-container-id-1 div.sk-parallel-item::after {content: \"\";width: 100%;border-bottom: 1px solid gray;flex-grow: 1;}#sk-container-id-1 div.sk-label:hover label.sk-toggleable__label {background-color: #d4ebff;}#sk-container-id-1 div.sk-serial::before {content: \"\";position: absolute;border-left: 1px solid gray;box-sizing: border-box;top: 0;bottom: 0;left: 50%;z-index: 0;}#sk-container-id-1 div.sk-serial {display: flex;flex-direction: column;align-items: center;background-color: white;padding-right: 0.2em;padding-left: 0.2em;position: relative;}#sk-container-id-1 div.sk-item {position: relative;z-index: 1;}#sk-container-id-1 div.sk-parallel {display: flex;align-items: stretch;justify-content: center;background-color: white;position: relative;}#sk-container-id-1 div.sk-item::before, #sk-container-id-1 div.sk-parallel-item::before {content: \"\";position: absolute;border-left: 1px solid gray;box-sizing: border-box;top: 0;bottom: 0;left: 50%;z-index: -1;}#sk-container-id-1 div.sk-parallel-item {display: flex;flex-direction: column;z-index: 1;position: relative;background-color: white;}#sk-container-id-1 div.sk-parallel-item:first-child::after {align-self: flex-end;width: 50%;}#sk-container-id-1 div.sk-parallel-item:last-child::after {align-self: flex-start;width: 50%;}#sk-container-id-1 div.sk-parallel-item:only-child::after {width: 0;}#sk-container-id-1 div.sk-dashed-wrapped {border: 1px dashed gray;margin: 0 0.4em 0.5em 0.4em;box-sizing: border-box;padding-bottom: 0.4em;background-color: white;}#sk-container-id-1 div.sk-label label {font-family: monospace;font-weight: bold;display: inline-block;line-height: 1.2em;}#sk-container-id-1 div.sk-label-container {text-align: center;}#sk-container-id-1 div.sk-container {/* jupyter's `normalize.less` sets `[hidden] { display: none; }` but bootstrap.min.css set `[hidden] { display: none !important; }` so we also need the `!important` here to be able to override the default hidden behavior on the sphinx rendered scikit-learn.org. See: https://github.com/scikit-learn/scikit-learn/issues/21755 */display: inline-block !important;position: relative;}#sk-container-id-1 div.sk-text-repr-fallback {display: none;}</style><div id=\"sk-container-id-1\" class=\"sk-top-container\"><div class=\"sk-text-repr-fallback\"><pre>GridSearchCV(cv=3,\n",
       "             estimator=XGBRegressor(base_score=None, booster=None,\n",
       "                                    callbacks=None, colsample_bylevel=None,\n",
       "                                    colsample_bynode=None,\n",
       "                                    colsample_bytree=None, device=None,\n",
       "                                    early_stopping_rounds=None,\n",
       "                                    enable_categorical=False,\n",
       "                                    eval_metric=&#x27;rmse&#x27;, feature_types=None,\n",
       "                                    gamma=None, grow_policy=None,\n",
       "                                    importance_type=None,\n",
       "                                    interaction_constraints=None,\n",
       "                                    learning_rate=None...\n",
       "                                    max_depth=None, max_leaves=None,\n",
       "                                    min_child_weight=None, missing=nan,\n",
       "                                    monotone_constraints=None,\n",
       "                                    multi_strategy=None, n_estimators=None,\n",
       "                                    n_jobs=None, num_parallel_tree=None,\n",
       "                                    random_state=None, ...),\n",
       "             n_jobs=-1,\n",
       "             param_grid={&#x27;colsample_bytree&#x27;: [0.7, 0.8, 0.9],\n",
       "                         &#x27;gamma&#x27;: [0, 0.1, 0.2],\n",
       "                         &#x27;learning_rate&#x27;: [0.01, 0.05, 0.1],\n",
       "                         &#x27;max_depth&#x27;: [3, 6, 10],\n",
       "                         &#x27;n_estimators&#x27;: [50, 100, 150],\n",
       "                         &#x27;subsample&#x27;: [0.7, 0.8, 0.9]},\n",
       "             verbose=2)</pre><b>In a Jupyter environment, please rerun this cell to show the HTML representation or trust the notebook. <br />On GitHub, the HTML representation is unable to render, please try loading this page with nbviewer.org.</b></div><div class=\"sk-container\" hidden><div class=\"sk-item sk-dashed-wrapped\"><div class=\"sk-label-container\"><div class=\"sk-label sk-toggleable\"><input class=\"sk-toggleable__control sk-hidden--visually\" id=\"sk-estimator-id-1\" type=\"checkbox\" ><label for=\"sk-estimator-id-1\" class=\"sk-toggleable__label sk-toggleable__label-arrow\">GridSearchCV</label><div class=\"sk-toggleable__content\"><pre>GridSearchCV(cv=3,\n",
       "             estimator=XGBRegressor(base_score=None, booster=None,\n",
       "                                    callbacks=None, colsample_bylevel=None,\n",
       "                                    colsample_bynode=None,\n",
       "                                    colsample_bytree=None, device=None,\n",
       "                                    early_stopping_rounds=None,\n",
       "                                    enable_categorical=False,\n",
       "                                    eval_metric=&#x27;rmse&#x27;, feature_types=None,\n",
       "                                    gamma=None, grow_policy=None,\n",
       "                                    importance_type=None,\n",
       "                                    interaction_constraints=None,\n",
       "                                    learning_rate=None...\n",
       "                                    max_depth=None, max_leaves=None,\n",
       "                                    min_child_weight=None, missing=nan,\n",
       "                                    monotone_constraints=None,\n",
       "                                    multi_strategy=None, n_estimators=None,\n",
       "                                    n_jobs=None, num_parallel_tree=None,\n",
       "                                    random_state=None, ...),\n",
       "             n_jobs=-1,\n",
       "             param_grid={&#x27;colsample_bytree&#x27;: [0.7, 0.8, 0.9],\n",
       "                         &#x27;gamma&#x27;: [0, 0.1, 0.2],\n",
       "                         &#x27;learning_rate&#x27;: [0.01, 0.05, 0.1],\n",
       "                         &#x27;max_depth&#x27;: [3, 6, 10],\n",
       "                         &#x27;n_estimators&#x27;: [50, 100, 150],\n",
       "                         &#x27;subsample&#x27;: [0.7, 0.8, 0.9]},\n",
       "             verbose=2)</pre></div></div></div><div class=\"sk-parallel\"><div class=\"sk-parallel-item\"><div class=\"sk-item\"><div class=\"sk-label-container\"><div class=\"sk-label sk-toggleable\"><input class=\"sk-toggleable__control sk-hidden--visually\" id=\"sk-estimator-id-2\" type=\"checkbox\" ><label for=\"sk-estimator-id-2\" class=\"sk-toggleable__label sk-toggleable__label-arrow\">estimator: XGBRegressor</label><div class=\"sk-toggleable__content\"><pre>XGBRegressor(base_score=None, booster=None, callbacks=None,\n",
       "             colsample_bylevel=None, colsample_bynode=None,\n",
       "             colsample_bytree=None, device=None, early_stopping_rounds=None,\n",
       "             enable_categorical=False, eval_metric=&#x27;rmse&#x27;, feature_types=None,\n",
       "             gamma=None, grow_policy=None, importance_type=None,\n",
       "             interaction_constraints=None, learning_rate=None, max_bin=None,\n",
       "             max_cat_threshold=None, max_cat_to_onehot=None,\n",
       "             max_delta_step=None, max_depth=None, max_leaves=None,\n",
       "             min_child_weight=None, missing=nan, monotone_constraints=None,\n",
       "             multi_strategy=None, n_estimators=None, n_jobs=None,\n",
       "             num_parallel_tree=None, random_state=None, ...)</pre></div></div></div><div class=\"sk-serial\"><div class=\"sk-item\"><div class=\"sk-estimator sk-toggleable\"><input class=\"sk-toggleable__control sk-hidden--visually\" id=\"sk-estimator-id-3\" type=\"checkbox\" ><label for=\"sk-estimator-id-3\" class=\"sk-toggleable__label sk-toggleable__label-arrow\">XGBRegressor</label><div class=\"sk-toggleable__content\"><pre>XGBRegressor(base_score=None, booster=None, callbacks=None,\n",
       "             colsample_bylevel=None, colsample_bynode=None,\n",
       "             colsample_bytree=None, device=None, early_stopping_rounds=None,\n",
       "             enable_categorical=False, eval_metric=&#x27;rmse&#x27;, feature_types=None,\n",
       "             gamma=None, grow_policy=None, importance_type=None,\n",
       "             interaction_constraints=None, learning_rate=None, max_bin=None,\n",
       "             max_cat_threshold=None, max_cat_to_onehot=None,\n",
       "             max_delta_step=None, max_depth=None, max_leaves=None,\n",
       "             min_child_weight=None, missing=nan, monotone_constraints=None,\n",
       "             multi_strategy=None, n_estimators=None, n_jobs=None,\n",
       "             num_parallel_tree=None, random_state=None, ...)</pre></div></div></div></div></div></div></div></div></div></div>"
      ],
      "text/plain": [
       "GridSearchCV(cv=3,\n",
       "             estimator=XGBRegressor(base_score=None, booster=None,\n",
       "                                    callbacks=None, colsample_bylevel=None,\n",
       "                                    colsample_bynode=None,\n",
       "                                    colsample_bytree=None, device=None,\n",
       "                                    early_stopping_rounds=None,\n",
       "                                    enable_categorical=False,\n",
       "                                    eval_metric='rmse', feature_types=None,\n",
       "                                    gamma=None, grow_policy=None,\n",
       "                                    importance_type=None,\n",
       "                                    interaction_constraints=None,\n",
       "                                    learning_rate=None...\n",
       "                                    max_depth=None, max_leaves=None,\n",
       "                                    min_child_weight=None, missing=nan,\n",
       "                                    monotone_constraints=None,\n",
       "                                    multi_strategy=None, n_estimators=None,\n",
       "                                    n_jobs=None, num_parallel_tree=None,\n",
       "                                    random_state=None, ...),\n",
       "             n_jobs=-1,\n",
       "             param_grid={'colsample_bytree': [0.7, 0.8, 0.9],\n",
       "                         'gamma': [0, 0.1, 0.2],\n",
       "                         'learning_rate': [0.01, 0.05, 0.1],\n",
       "                         'max_depth': [3, 6, 10],\n",
       "                         'n_estimators': [50, 100, 150],\n",
       "                         'subsample': [0.7, 0.8, 0.9]},\n",
       "             verbose=2)"
      ]
     },
     "execution_count": 32,
     "metadata": {},
     "output_type": "execute_result"
    }
   ],
   "source": [
    "grid_search = GridSearchCV(estimator=xgb_model, param_grid=param_grid, cv=3, verbose=2, n_jobs=-1)\n",
    "grid_search.fit(x_train, y_train)"
   ]
  },
  {
   "cell_type": "code",
   "execution_count": 33,
   "id": "a3812bf0-eb40-4029-97f8-63925c267bf1",
   "metadata": {},
   "outputs": [
    {
     "name": "stdout",
     "output_type": "stream",
     "text": [
      "Best Hyperparameters from Grid Search: {'colsample_bytree': 0.7, 'gamma': 0, 'learning_rate': 0.05, 'max_depth': 10, 'n_estimators': 150, 'subsample': 0.7}\n"
     ]
    }
   ],
   "source": [
    "# Get the best hyperparameters from GridSearchCV\n",
    "best_params = grid_search.best_params_\n",
    "print(f\"Best Hyperparameters from Grid Search: {best_params}\")\n",
    "\n",
    "# Train the best model with evaluation set\n",
    "best_xgb_model = grid_search.best_estimator_\n",
    "\n",
    "# Prepare evaluation set (validation data)\n",
    "eval_set = [(x_train, y_train), (x_val, y_val)]  # Includes training and evaluation sets\n",
    "\n",
    "# Fit the best model with evaluation during training"
   ]
  },
  {
   "cell_type": "markdown",
   "id": "ad93f19e-04cf-48e3-b806-25d6d7d97631",
   "metadata": {},
   "source": [
    "### FITING MODEL AND TRAING"
   ]
  },
  {
   "cell_type": "code",
   "execution_count": 34,
   "id": "c6f346d7-7abe-4057-bf2e-b4800b3e4888",
   "metadata": {},
   "outputs": [
    {
     "name": "stdout",
     "output_type": "stream",
     "text": [
      "[0]\tvalidation_0-rmse:0.98183\tvalidation_1-rmse:0.94538\n",
      "[1]\tvalidation_0-rmse:0.94457\tvalidation_1-rmse:0.91125\n",
      "[2]\tvalidation_0-rmse:0.90887\tvalidation_1-rmse:0.87739\n",
      "[3]\tvalidation_0-rmse:0.87250\tvalidation_1-rmse:0.84529\n",
      "[4]\tvalidation_0-rmse:0.84558\tvalidation_1-rmse:0.82096\n",
      "[5]\tvalidation_0-rmse:0.81516\tvalidation_1-rmse:0.79252\n",
      "[6]\tvalidation_0-rmse:0.78418\tvalidation_1-rmse:0.76535\n",
      "[7]\tvalidation_0-rmse:0.75443\tvalidation_1-rmse:0.73997\n",
      "[8]\tvalidation_0-rmse:0.73039\tvalidation_1-rmse:0.71738\n",
      "[9]\tvalidation_0-rmse:0.70584\tvalidation_1-rmse:0.69650\n",
      "[10]\tvalidation_0-rmse:0.68209\tvalidation_1-rmse:0.67741\n",
      "[11]\tvalidation_0-rmse:0.65895\tvalidation_1-rmse:0.65809\n",
      "[12]\tvalidation_0-rmse:0.63638\tvalidation_1-rmse:0.63862\n",
      "[13]\tvalidation_0-rmse:0.61582\tvalidation_1-rmse:0.62131\n",
      "[14]\tvalidation_0-rmse:0.59662\tvalidation_1-rmse:0.60609\n",
      "[15]\tvalidation_0-rmse:0.57729\tvalidation_1-rmse:0.59002\n",
      "[16]\tvalidation_0-rmse:0.56349\tvalidation_1-rmse:0.57798\n",
      "[17]\tvalidation_0-rmse:0.54639\tvalidation_1-rmse:0.56388\n",
      "[18]\tvalidation_0-rmse:0.53263\tvalidation_1-rmse:0.55297\n",
      "[19]\tvalidation_0-rmse:0.51719\tvalidation_1-rmse:0.54172\n",
      "[20]\tvalidation_0-rmse:0.50621\tvalidation_1-rmse:0.53145\n",
      "[21]\tvalidation_0-rmse:0.49248\tvalidation_1-rmse:0.51945\n",
      "[22]\tvalidation_0-rmse:0.47869\tvalidation_1-rmse:0.50921\n",
      "[23]\tvalidation_0-rmse:0.46633\tvalidation_1-rmse:0.50004\n",
      "[24]\tvalidation_0-rmse:0.45629\tvalidation_1-rmse:0.49194\n",
      "[25]\tvalidation_0-rmse:0.44506\tvalidation_1-rmse:0.48381\n",
      "[26]\tvalidation_0-rmse:0.43529\tvalidation_1-rmse:0.47409\n",
      "[27]\tvalidation_0-rmse:0.42464\tvalidation_1-rmse:0.46547\n",
      "[28]\tvalidation_0-rmse:0.41465\tvalidation_1-rmse:0.45863\n",
      "[29]\tvalidation_0-rmse:0.40582\tvalidation_1-rmse:0.45281\n",
      "[30]\tvalidation_0-rmse:0.39540\tvalidation_1-rmse:0.44649\n",
      "[31]\tvalidation_0-rmse:0.38694\tvalidation_1-rmse:0.44105\n",
      "[32]\tvalidation_0-rmse:0.37973\tvalidation_1-rmse:0.43609\n",
      "[33]\tvalidation_0-rmse:0.37344\tvalidation_1-rmse:0.43284\n",
      "[34]\tvalidation_0-rmse:0.36510\tvalidation_1-rmse:0.42755\n",
      "[35]\tvalidation_0-rmse:0.35820\tvalidation_1-rmse:0.42184\n",
      "[36]\tvalidation_0-rmse:0.35203\tvalidation_1-rmse:0.41689\n",
      "[37]\tvalidation_0-rmse:0.34609\tvalidation_1-rmse:0.41356\n",
      "[38]\tvalidation_0-rmse:0.34104\tvalidation_1-rmse:0.40911\n",
      "[39]\tvalidation_0-rmse:0.33592\tvalidation_1-rmse:0.40620\n",
      "[40]\tvalidation_0-rmse:0.33202\tvalidation_1-rmse:0.40300\n",
      "[41]\tvalidation_0-rmse:0.32786\tvalidation_1-rmse:0.40038\n",
      "[42]\tvalidation_0-rmse:0.32329\tvalidation_1-rmse:0.39672\n",
      "[43]\tvalidation_0-rmse:0.31842\tvalidation_1-rmse:0.39297\n",
      "[44]\tvalidation_0-rmse:0.31497\tvalidation_1-rmse:0.39153\n",
      "[45]\tvalidation_0-rmse:0.31006\tvalidation_1-rmse:0.38950\n",
      "[46]\tvalidation_0-rmse:0.30753\tvalidation_1-rmse:0.38686\n",
      "[47]\tvalidation_0-rmse:0.30449\tvalidation_1-rmse:0.38416\n",
      "[48]\tvalidation_0-rmse:0.30119\tvalidation_1-rmse:0.38148\n",
      "[49]\tvalidation_0-rmse:0.29842\tvalidation_1-rmse:0.37989\n",
      "[50]\tvalidation_0-rmse:0.29553\tvalidation_1-rmse:0.37771\n",
      "[51]\tvalidation_0-rmse:0.29258\tvalidation_1-rmse:0.37535\n",
      "[52]\tvalidation_0-rmse:0.28933\tvalidation_1-rmse:0.37358\n",
      "[53]\tvalidation_0-rmse:0.28625\tvalidation_1-rmse:0.37137\n",
      "[54]\tvalidation_0-rmse:0.28358\tvalidation_1-rmse:0.36909\n",
      "[55]\tvalidation_0-rmse:0.28072\tvalidation_1-rmse:0.36743\n",
      "[56]\tvalidation_0-rmse:0.27685\tvalidation_1-rmse:0.36563\n",
      "[57]\tvalidation_0-rmse:0.27459\tvalidation_1-rmse:0.36405\n",
      "[58]\tvalidation_0-rmse:0.27156\tvalidation_1-rmse:0.36229\n",
      "[59]\tvalidation_0-rmse:0.26902\tvalidation_1-rmse:0.36123\n",
      "[60]\tvalidation_0-rmse:0.26664\tvalidation_1-rmse:0.35932\n",
      "[61]\tvalidation_0-rmse:0.26311\tvalidation_1-rmse:0.35821\n",
      "[62]\tvalidation_0-rmse:0.26136\tvalidation_1-rmse:0.35693\n",
      "[63]\tvalidation_0-rmse:0.25941\tvalidation_1-rmse:0.35578\n",
      "[64]\tvalidation_0-rmse:0.25743\tvalidation_1-rmse:0.35433\n",
      "[65]\tvalidation_0-rmse:0.25637\tvalidation_1-rmse:0.35303\n",
      "[66]\tvalidation_0-rmse:0.25444\tvalidation_1-rmse:0.35223\n",
      "[67]\tvalidation_0-rmse:0.25258\tvalidation_1-rmse:0.35121\n",
      "[68]\tvalidation_0-rmse:0.25072\tvalidation_1-rmse:0.35007\n",
      "[69]\tvalidation_0-rmse:0.24994\tvalidation_1-rmse:0.34958\n",
      "[70]\tvalidation_0-rmse:0.24773\tvalidation_1-rmse:0.34813\n",
      "[71]\tvalidation_0-rmse:0.24620\tvalidation_1-rmse:0.34716\n",
      "[72]\tvalidation_0-rmse:0.24510\tvalidation_1-rmse:0.34622\n",
      "[73]\tvalidation_0-rmse:0.24436\tvalidation_1-rmse:0.34549\n",
      "[74]\tvalidation_0-rmse:0.24276\tvalidation_1-rmse:0.34512\n",
      "[75]\tvalidation_0-rmse:0.24154\tvalidation_1-rmse:0.34389\n",
      "[76]\tvalidation_0-rmse:0.23986\tvalidation_1-rmse:0.34291\n",
      "[77]\tvalidation_0-rmse:0.23898\tvalidation_1-rmse:0.34237\n",
      "[78]\tvalidation_0-rmse:0.23836\tvalidation_1-rmse:0.34152\n",
      "[79]\tvalidation_0-rmse:0.23612\tvalidation_1-rmse:0.34094\n",
      "[80]\tvalidation_0-rmse:0.23423\tvalidation_1-rmse:0.34004\n",
      "[81]\tvalidation_0-rmse:0.23322\tvalidation_1-rmse:0.33940\n",
      "[82]\tvalidation_0-rmse:0.23137\tvalidation_1-rmse:0.33898\n",
      "[83]\tvalidation_0-rmse:0.23068\tvalidation_1-rmse:0.33841\n",
      "[84]\tvalidation_0-rmse:0.22972\tvalidation_1-rmse:0.33781\n",
      "[85]\tvalidation_0-rmse:0.22781\tvalidation_1-rmse:0.33652\n",
      "[86]\tvalidation_0-rmse:0.22738\tvalidation_1-rmse:0.33582\n",
      "[87]\tvalidation_0-rmse:0.22691\tvalidation_1-rmse:0.33538\n",
      "[88]\tvalidation_0-rmse:0.22588\tvalidation_1-rmse:0.33530\n",
      "[89]\tvalidation_0-rmse:0.22478\tvalidation_1-rmse:0.33506\n",
      "[90]\tvalidation_0-rmse:0.22329\tvalidation_1-rmse:0.33414\n",
      "[91]\tvalidation_0-rmse:0.22240\tvalidation_1-rmse:0.33355\n",
      "[92]\tvalidation_0-rmse:0.22154\tvalidation_1-rmse:0.33318\n",
      "[93]\tvalidation_0-rmse:0.22052\tvalidation_1-rmse:0.33283\n",
      "[94]\tvalidation_0-rmse:0.21911\tvalidation_1-rmse:0.33183\n",
      "[95]\tvalidation_0-rmse:0.21802\tvalidation_1-rmse:0.33180\n",
      "[96]\tvalidation_0-rmse:0.21705\tvalidation_1-rmse:0.33138\n",
      "[97]\tvalidation_0-rmse:0.21500\tvalidation_1-rmse:0.33072\n",
      "[98]\tvalidation_0-rmse:0.21424\tvalidation_1-rmse:0.33041\n",
      "[99]\tvalidation_0-rmse:0.21293\tvalidation_1-rmse:0.32953\n",
      "[100]\tvalidation_0-rmse:0.21201\tvalidation_1-rmse:0.32928\n",
      "[101]\tvalidation_0-rmse:0.21168\tvalidation_1-rmse:0.32931\n",
      "[102]\tvalidation_0-rmse:0.21040\tvalidation_1-rmse:0.32853\n",
      "[103]\tvalidation_0-rmse:0.20920\tvalidation_1-rmse:0.32804\n",
      "[104]\tvalidation_0-rmse:0.20799\tvalidation_1-rmse:0.32726\n",
      "[105]\tvalidation_0-rmse:0.20744\tvalidation_1-rmse:0.32698\n",
      "[106]\tvalidation_0-rmse:0.20690\tvalidation_1-rmse:0.32681\n",
      "[107]\tvalidation_0-rmse:0.20667\tvalidation_1-rmse:0.32665\n",
      "[108]\tvalidation_0-rmse:0.20506\tvalidation_1-rmse:0.32610\n",
      "[109]\tvalidation_0-rmse:0.20452\tvalidation_1-rmse:0.32596\n",
      "[110]\tvalidation_0-rmse:0.20409\tvalidation_1-rmse:0.32532\n",
      "[111]\tvalidation_0-rmse:0.20296\tvalidation_1-rmse:0.32491\n",
      "[112]\tvalidation_0-rmse:0.20263\tvalidation_1-rmse:0.32478\n",
      "[113]\tvalidation_0-rmse:0.20165\tvalidation_1-rmse:0.32456\n",
      "[114]\tvalidation_0-rmse:0.19998\tvalidation_1-rmse:0.32378\n",
      "[115]\tvalidation_0-rmse:0.19984\tvalidation_1-rmse:0.32339\n",
      "[116]\tvalidation_0-rmse:0.19889\tvalidation_1-rmse:0.32364\n",
      "[117]\tvalidation_0-rmse:0.19781\tvalidation_1-rmse:0.32350\n",
      "[118]\tvalidation_0-rmse:0.19655\tvalidation_1-rmse:0.32316\n",
      "[119]\tvalidation_0-rmse:0.19642\tvalidation_1-rmse:0.32280\n",
      "[120]\tvalidation_0-rmse:0.19455\tvalidation_1-rmse:0.32176\n",
      "[121]\tvalidation_0-rmse:0.19377\tvalidation_1-rmse:0.32157\n",
      "[122]\tvalidation_0-rmse:0.19342\tvalidation_1-rmse:0.32135\n",
      "[123]\tvalidation_0-rmse:0.19228\tvalidation_1-rmse:0.32120\n",
      "[124]\tvalidation_0-rmse:0.19159\tvalidation_1-rmse:0.32106\n",
      "[125]\tvalidation_0-rmse:0.19096\tvalidation_1-rmse:0.32058\n",
      "[126]\tvalidation_0-rmse:0.19075\tvalidation_1-rmse:0.32055\n",
      "[127]\tvalidation_0-rmse:0.18997\tvalidation_1-rmse:0.32066\n",
      "[128]\tvalidation_0-rmse:0.18915\tvalidation_1-rmse:0.32072\n",
      "[129]\tvalidation_0-rmse:0.18768\tvalidation_1-rmse:0.32048\n",
      "[130]\tvalidation_0-rmse:0.18695\tvalidation_1-rmse:0.32036\n",
      "[131]\tvalidation_0-rmse:0.18572\tvalidation_1-rmse:0.32026\n",
      "[132]\tvalidation_0-rmse:0.18526\tvalidation_1-rmse:0.32014\n",
      "[133]\tvalidation_0-rmse:0.18400\tvalidation_1-rmse:0.31967\n",
      "[134]\tvalidation_0-rmse:0.18330\tvalidation_1-rmse:0.31935\n",
      "[135]\tvalidation_0-rmse:0.18186\tvalidation_1-rmse:0.31887\n",
      "[136]\tvalidation_0-rmse:0.18148\tvalidation_1-rmse:0.31877\n",
      "[137]\tvalidation_0-rmse:0.18060\tvalidation_1-rmse:0.31860\n",
      "[138]\tvalidation_0-rmse:0.17995\tvalidation_1-rmse:0.31848\n",
      "[139]\tvalidation_0-rmse:0.17899\tvalidation_1-rmse:0.31870\n",
      "[140]\tvalidation_0-rmse:0.17845\tvalidation_1-rmse:0.31857\n",
      "[141]\tvalidation_0-rmse:0.17804\tvalidation_1-rmse:0.31856\n",
      "[142]\tvalidation_0-rmse:0.17757\tvalidation_1-rmse:0.31836\n",
      "[143]\tvalidation_0-rmse:0.17665\tvalidation_1-rmse:0.31839\n",
      "[144]\tvalidation_0-rmse:0.17612\tvalidation_1-rmse:0.31813\n",
      "[145]\tvalidation_0-rmse:0.17528\tvalidation_1-rmse:0.31811\n",
      "[146]\tvalidation_0-rmse:0.17416\tvalidation_1-rmse:0.31777\n",
      "[147]\tvalidation_0-rmse:0.17321\tvalidation_1-rmse:0.31737\n",
      "[148]\tvalidation_0-rmse:0.17221\tvalidation_1-rmse:0.31704\n",
      "[149]\tvalidation_0-rmse:0.17168\tvalidation_1-rmse:0.31709\n"
     ]
    },
    {
     "data": {
      "text/html": [
       "<style>#sk-container-id-2 {color: black;background-color: white;}#sk-container-id-2 pre{padding: 0;}#sk-container-id-2 div.sk-toggleable {background-color: white;}#sk-container-id-2 label.sk-toggleable__label {cursor: pointer;display: block;width: 100%;margin-bottom: 0;padding: 0.3em;box-sizing: border-box;text-align: center;}#sk-container-id-2 label.sk-toggleable__label-arrow:before {content: \"▸\";float: left;margin-right: 0.25em;color: #696969;}#sk-container-id-2 label.sk-toggleable__label-arrow:hover:before {color: black;}#sk-container-id-2 div.sk-estimator:hover label.sk-toggleable__label-arrow:before {color: black;}#sk-container-id-2 div.sk-toggleable__content {max-height: 0;max-width: 0;overflow: hidden;text-align: left;background-color: #f0f8ff;}#sk-container-id-2 div.sk-toggleable__content pre {margin: 0.2em;color: black;border-radius: 0.25em;background-color: #f0f8ff;}#sk-container-id-2 input.sk-toggleable__control:checked~div.sk-toggleable__content {max-height: 200px;max-width: 100%;overflow: auto;}#sk-container-id-2 input.sk-toggleable__control:checked~label.sk-toggleable__label-arrow:before {content: \"▾\";}#sk-container-id-2 div.sk-estimator input.sk-toggleable__control:checked~label.sk-toggleable__label {background-color: #d4ebff;}#sk-container-id-2 div.sk-label input.sk-toggleable__control:checked~label.sk-toggleable__label {background-color: #d4ebff;}#sk-container-id-2 input.sk-hidden--visually {border: 0;clip: rect(1px 1px 1px 1px);clip: rect(1px, 1px, 1px, 1px);height: 1px;margin: -1px;overflow: hidden;padding: 0;position: absolute;width: 1px;}#sk-container-id-2 div.sk-estimator {font-family: monospace;background-color: #f0f8ff;border: 1px dotted black;border-radius: 0.25em;box-sizing: border-box;margin-bottom: 0.5em;}#sk-container-id-2 div.sk-estimator:hover {background-color: #d4ebff;}#sk-container-id-2 div.sk-parallel-item::after {content: \"\";width: 100%;border-bottom: 1px solid gray;flex-grow: 1;}#sk-container-id-2 div.sk-label:hover label.sk-toggleable__label {background-color: #d4ebff;}#sk-container-id-2 div.sk-serial::before {content: \"\";position: absolute;border-left: 1px solid gray;box-sizing: border-box;top: 0;bottom: 0;left: 50%;z-index: 0;}#sk-container-id-2 div.sk-serial {display: flex;flex-direction: column;align-items: center;background-color: white;padding-right: 0.2em;padding-left: 0.2em;position: relative;}#sk-container-id-2 div.sk-item {position: relative;z-index: 1;}#sk-container-id-2 div.sk-parallel {display: flex;align-items: stretch;justify-content: center;background-color: white;position: relative;}#sk-container-id-2 div.sk-item::before, #sk-container-id-2 div.sk-parallel-item::before {content: \"\";position: absolute;border-left: 1px solid gray;box-sizing: border-box;top: 0;bottom: 0;left: 50%;z-index: -1;}#sk-container-id-2 div.sk-parallel-item {display: flex;flex-direction: column;z-index: 1;position: relative;background-color: white;}#sk-container-id-2 div.sk-parallel-item:first-child::after {align-self: flex-end;width: 50%;}#sk-container-id-2 div.sk-parallel-item:last-child::after {align-self: flex-start;width: 50%;}#sk-container-id-2 div.sk-parallel-item:only-child::after {width: 0;}#sk-container-id-2 div.sk-dashed-wrapped {border: 1px dashed gray;margin: 0 0.4em 0.5em 0.4em;box-sizing: border-box;padding-bottom: 0.4em;background-color: white;}#sk-container-id-2 div.sk-label label {font-family: monospace;font-weight: bold;display: inline-block;line-height: 1.2em;}#sk-container-id-2 div.sk-label-container {text-align: center;}#sk-container-id-2 div.sk-container {/* jupyter's `normalize.less` sets `[hidden] { display: none; }` but bootstrap.min.css set `[hidden] { display: none !important; }` so we also need the `!important` here to be able to override the default hidden behavior on the sphinx rendered scikit-learn.org. See: https://github.com/scikit-learn/scikit-learn/issues/21755 */display: inline-block !important;position: relative;}#sk-container-id-2 div.sk-text-repr-fallback {display: none;}</style><div id=\"sk-container-id-2\" class=\"sk-top-container\"><div class=\"sk-text-repr-fallback\"><pre>XGBRegressor(base_score=None, booster=None, callbacks=None,\n",
       "             colsample_bylevel=None, colsample_bynode=None,\n",
       "             colsample_bytree=0.7, device=None, early_stopping_rounds=None,\n",
       "             enable_categorical=False, eval_metric=&#x27;rmse&#x27;, feature_types=None,\n",
       "             gamma=0, grow_policy=None, importance_type=None,\n",
       "             interaction_constraints=None, learning_rate=0.05, max_bin=None,\n",
       "             max_cat_threshold=None, max_cat_to_onehot=None,\n",
       "             max_delta_step=None, max_depth=10, max_leaves=None,\n",
       "             min_child_weight=None, missing=nan, monotone_constraints=None,\n",
       "             multi_strategy=None, n_estimators=150, n_jobs=None,\n",
       "             num_parallel_tree=None, random_state=None, ...)</pre><b>In a Jupyter environment, please rerun this cell to show the HTML representation or trust the notebook. <br />On GitHub, the HTML representation is unable to render, please try loading this page with nbviewer.org.</b></div><div class=\"sk-container\" hidden><div class=\"sk-item\"><div class=\"sk-estimator sk-toggleable\"><input class=\"sk-toggleable__control sk-hidden--visually\" id=\"sk-estimator-id-4\" type=\"checkbox\" checked><label for=\"sk-estimator-id-4\" class=\"sk-toggleable__label sk-toggleable__label-arrow\">XGBRegressor</label><div class=\"sk-toggleable__content\"><pre>XGBRegressor(base_score=None, booster=None, callbacks=None,\n",
       "             colsample_bylevel=None, colsample_bynode=None,\n",
       "             colsample_bytree=0.7, device=None, early_stopping_rounds=None,\n",
       "             enable_categorical=False, eval_metric=&#x27;rmse&#x27;, feature_types=None,\n",
       "             gamma=0, grow_policy=None, importance_type=None,\n",
       "             interaction_constraints=None, learning_rate=0.05, max_bin=None,\n",
       "             max_cat_threshold=None, max_cat_to_onehot=None,\n",
       "             max_delta_step=None, max_depth=10, max_leaves=None,\n",
       "             min_child_weight=None, missing=nan, monotone_constraints=None,\n",
       "             multi_strategy=None, n_estimators=150, n_jobs=None,\n",
       "             num_parallel_tree=None, random_state=None, ...)</pre></div></div></div></div></div>"
      ],
      "text/plain": [
       "XGBRegressor(base_score=None, booster=None, callbacks=None,\n",
       "             colsample_bylevel=None, colsample_bynode=None,\n",
       "             colsample_bytree=0.7, device=None, early_stopping_rounds=None,\n",
       "             enable_categorical=False, eval_metric='rmse', feature_types=None,\n",
       "             gamma=0, grow_policy=None, importance_type=None,\n",
       "             interaction_constraints=None, learning_rate=0.05, max_bin=None,\n",
       "             max_cat_threshold=None, max_cat_to_onehot=None,\n",
       "             max_delta_step=None, max_depth=10, max_leaves=None,\n",
       "             min_child_weight=None, missing=nan, monotone_constraints=None,\n",
       "             multi_strategy=None, n_estimators=150, n_jobs=None,\n",
       "             num_parallel_tree=None, random_state=None, ...)"
      ]
     },
     "execution_count": 34,
     "metadata": {},
     "output_type": "execute_result"
    }
   ],
   "source": [
    "best_xgb_model.fit(x_train, y_train, \n",
    "                   eval_set=eval_set, \n",
    "                  )"
   ]
  },
  {
   "cell_type": "code",
   "execution_count": 35,
   "id": "5a7b7898-1798-4a5a-a75d-a1fd7301d834",
   "metadata": {},
   "outputs": [
    {
     "data": {
      "text/plain": [
       "0.8764263979312834"
      ]
     },
     "execution_count": 35,
     "metadata": {},
     "output_type": "execute_result"
    }
   ],
   "source": [
    "prediction=best_xgb_model.predict(x_test)\n",
    "best_xgb_model.score(x_test,y_test)"
   ]
  },
  {
   "cell_type": "markdown",
   "id": "f5d51e8a-41e7-4857-be07-87ed81511770",
   "metadata": {},
   "source": [
    "### TESTING"
   ]
  },
  {
   "cell_type": "code",
   "execution_count": 36,
   "id": "9fcf418a-7422-4f1c-8f3f-c1ad30eacf4d",
   "metadata": {},
   "outputs": [],
   "source": [
    "from sklearn.metrics import mean_squared_error"
   ]
  },
  {
   "cell_type": "code",
   "execution_count": 37,
   "id": "5f40b6d3-3454-4315-97ba-656eeeb15261",
   "metadata": {},
   "outputs": [],
   "source": [
    "mse=mean_squared_error(y_test,prediction)\n",
    "rmse=np.sqrt(mse)\n",
    "mean=y.mean()"
   ]
  },
  {
   "cell_type": "code",
   "execution_count": 38,
   "id": "99c6ac63-4052-43f7-9f6d-65a8323d5ca5",
   "metadata": {},
   "outputs": [],
   "source": [
    "original_rmse=rmse*price_std\n",
    "original_mse=mse*(price_std**2)"
   ]
  },
  {
   "cell_type": "code",
   "execution_count": 39,
   "id": "d8f1fbba-4a13-449f-8571-d39ac13f611a",
   "metadata": {
    "scrolled": true
   },
   "outputs": [
    {
     "name": "stdout",
     "output_type": "stream",
     "text": [
      "mse  : 2394130.963314494\n",
      "rmse : 1547.2979555710963\n",
      "originql target mean : 9087.064120565385\n",
      "percentage : 17.02747922807466%\n"
     ]
    }
   ],
   "source": [
    "print(f'mse  : {original_mse}')\n",
    "print(f'rmse : {original_rmse}')\n",
    "print(f'originql target mean : {price_mean}')\n",
    "print(f'percentage : {original_rmse/price_mean*100}%')\n",
    "\n"
   ]
  },
  {
   "cell_type": "markdown",
   "id": "7abc66cf-06d5-4d59-b262-7a367d678fa9",
   "metadata": {},
   "source": [
    "### EVALUATING"
   ]
  },
  {
   "cell_type": "code",
   "execution_count": 40,
   "id": "920874b9-8bdd-4789-90b6-541bc0e05261",
   "metadata": {},
   "outputs": [],
   "source": [
    "df=pd.DataFrame(data=x_test.columns,columns=[\"columns\"])\n",
    "df[\"features\"]=best_xgb_model.feature_importances_\n",
    "df=df.sort_values(by=\"features\", ascending=False).head(20)"
   ]
  },
  {
   "cell_type": "code",
   "execution_count": 41,
   "id": "04d5aba5-0252-4534-97e5-7f3a9eca4762",
   "metadata": {},
   "outputs": [
    {
     "data": {
      "text/plain": [
       "<Axes: xlabel='features', ylabel='columns'>"
      ]
     },
     "execution_count": 41,
     "metadata": {},
     "output_type": "execute_result"
    },
    {
     "data": {
      "image/png": "[encoded data removed]",
      "text/plain": [
       "<Figure size 640x480 with 1 Axes>"
      ]
     },
     "metadata": {},
     "output_type": "display_data"
    }
   ],
   "source": [
    "sns.barplot(data=df,x=\"features\",y=\"columns\")"
   ]
  },
  {
   "cell_type": "markdown",
   "id": "1247a4ff-5599-49c9-a3f4-1ba7382620fa",
   "metadata": {},
   "source": [
    "### saving the data"
   ]
  },
  {
   "cell_type": "code",
   "execution_count": 42,
   "id": "58b0b28d-f526-430a-96aa-2173a09a4a07",
   "metadata": {},
   "outputs": [
    {
     "data": {
      "text/plain": [
       "['scaler.joblib']"
      ]
     },
     "execution_count": 42,
     "metadata": {},
     "output_type": "execute_result"
    }
   ],
   "source": [
    "import joblib\n",
    "joblib.dump(best_xgb_model, 'best_xgb_model.joblib')\n",
    "joblib.dump(scaler, 'scaler.joblib')"
   ]
  }
 ],
 "metadata": {
  "kernelspec": {
   "display_name": "Python 3 (ipykernel)",
   "language": "python",
   "name": "python3"
  },
  "language_info": {
   "codemirror_mode": {
    "name": "ipython",
    "version": 3
   },
   "file_extension": ".py",
   "mimetype": "text/x-python",
   "name": "python",
   "nbconvert_exporter": "python",
   "pygments_lexer": "ipython3",
   "version": "3.11.7"
  }
 },
 "nbformat": 4,
 "nbformat_minor": 5
}
